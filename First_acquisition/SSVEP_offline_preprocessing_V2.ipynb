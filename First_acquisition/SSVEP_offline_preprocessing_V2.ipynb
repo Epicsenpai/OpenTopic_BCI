{
 "cells": [
  {
   "cell_type": "code",
   "execution_count": 1,
   "metadata": {},
   "outputs": [
    {
     "name": "stderr",
     "output_type": "stream",
     "text": [
      "Stream 1: Calculated effective sampling rate 184.9737 Hz is different from specified rate 250.0000 Hz.\n"
     ]
    }
   ],
   "source": [
    "import pyxdf\n",
    "import mne\n",
    "import numpy as np\n",
    "streams, header = pyxdf.load_xdf(\"sub-P005/ses-S001/eeg/sub-P005_ses-S001_task-Default_run-001_eeg.xdf\") #Example Data from Lab Recoder"
   ]
  },
  {
   "cell_type": "code",
   "execution_count": 2,
   "metadata": {},
   "outputs": [
    {
     "data": {
      "text/plain": [
       "[{'info': defaultdict(list,\n",
       "              {'name': ['obci_eeg1'],\n",
       "               'type': ['EEG'],\n",
       "               'channel_count': ['8'],\n",
       "               'nominal_srate': ['250'],\n",
       "               'channel_format': ['float32'],\n",
       "               'source_id': ['openbcigui'],\n",
       "               'version': ['1.1000000000000001'],\n",
       "               'created_at': ['50625.090058278001'],\n",
       "               'uid': ['0c9963df-1bea-4888-9b52-bd045eb5b77f'],\n",
       "               'session_id': ['default'],\n",
       "               'hostname': ['MRPrayads-MacBook-Pro.local'],\n",
       "               'v4address': [None],\n",
       "               'v4data_port': ['16572'],\n",
       "               'v4service_port': ['16572'],\n",
       "               'v6address': [None],\n",
       "               'v6data_port': ['0'],\n",
       "               'v6service_port': ['0'],\n",
       "               'desc': [None],\n",
       "               'stream_id': 1,\n",
       "               'effective_srate': 184.97367295059448}),\n",
       "  'footer': {'info': defaultdict(list,\n",
       "               {'first_timestamp': ['52747.81840181'],\n",
       "                'last_timestamp': ['53010.85610256501'],\n",
       "                'sample_count': ['48509'],\n",
       "                'clock_offsets': [defaultdict(list,\n",
       "                             {'offset': [defaultdict(list,\n",
       "                                           {'time': ['52753.53138874751'],\n",
       "                                            'value': ['2196350.302316885']}),\n",
       "                               defaultdict(list,\n",
       "                                           {'time': ['52758.53590585198'],\n",
       "                                            'value': ['2196350.302308882']}),\n",
       "                               defaultdict(list,\n",
       "                                           {'time': ['52763.53767315904'],\n",
       "                                            'value': ['2196350.302332295']}),\n",
       "                               defaultdict(list,\n",
       "                                           {'time': ['52768.54270144226'],\n",
       "                                            'value': ['2196350.302338508']}),\n",
       "                               defaultdict(list,\n",
       "                                           {'time': ['52773.54747153912'],\n",
       "                                            'value': ['2196350.302335174']}),\n",
       "                               defaultdict(list,\n",
       "                                           {'time': ['52778.5516603468'],\n",
       "                                            'value': ['2196350.302346153']}),\n",
       "                               defaultdict(list,\n",
       "                                           {'time': ['52783.55435581505'],\n",
       "                                            'value': ['2196350.302318767']}),\n",
       "                               defaultdict(list,\n",
       "                                           {'time': ['52788.55682760756'],\n",
       "                                            'value': ['2196350.30231989']}),\n",
       "                               defaultdict(list,\n",
       "                                           {'time': ['52793.56173295248'],\n",
       "                                            'value': ['2196350.30229948']}),\n",
       "                               defaultdict(list,\n",
       "                                           {'time': ['52798.56265623728'],\n",
       "                                            'value': ['2196350.30230191']}),\n",
       "                               defaultdict(list,\n",
       "                                           {'time': ['52803.56683782255'],\n",
       "                                            'value': ['2196350.302324655']}),\n",
       "                               defaultdict(list,\n",
       "                                           {'time': ['52808.57165291533'],\n",
       "                                            'value': ['2196350.302308368']}),\n",
       "                               defaultdict(list,\n",
       "                                           {'time': ['52813.57415896514'],\n",
       "                                            'value': ['2196350.302320797']}),\n",
       "                               defaultdict(list,\n",
       "                                           {'time': ['52818.57847184082'],\n",
       "                                            'value': ['2196350.302329253']}),\n",
       "                               defaultdict(list,\n",
       "                                           {'time': ['52823.58229063824'],\n",
       "                                            'value': ['2196350.302325489']}),\n",
       "                               defaultdict(list,\n",
       "                                           {'time': ['52828.58625598392'],\n",
       "                                            'value': ['2196350.302322531']}),\n",
       "                               defaultdict(list,\n",
       "                                           {'time': ['52833.59103791881'],\n",
       "                                            'value': ['2196350.302319318']}),\n",
       "                               defaultdict(list,\n",
       "                                           {'time': ['52838.59502957063'],\n",
       "                                            'value': ['2196350.302322419']}),\n",
       "                               defaultdict(list,\n",
       "                                           {'time': ['52843.59988294262'],\n",
       "                                            'value': ['2196350.302315786']}),\n",
       "                               defaultdict(list,\n",
       "                                           {'time': ['52848.60085371835'],\n",
       "                                            'value': ['2196350.302337587']}),\n",
       "                               defaultdict(list,\n",
       "                                           {'time': ['52853.6054446171'],\n",
       "                                            'value': ['2196350.302333543']}),\n",
       "                               defaultdict(list,\n",
       "                                           {'time': ['52858.60861455556'],\n",
       "                                            'value': ['2196350.302321068']}),\n",
       "                               defaultdict(list,\n",
       "                                           {'time': ['52863.61145964265'],\n",
       "                                            'value': ['2196350.302307622']}),\n",
       "                               defaultdict(list,\n",
       "                                           {'time': ['52868.61578033026'],\n",
       "                                            'value': ['2196350.302325303']}),\n",
       "                               defaultdict(list,\n",
       "                                           {'time': ['52873.62008493207'],\n",
       "                                            'value': ['2196350.302325325']}),\n",
       "                               defaultdict(list,\n",
       "                                           {'time': ['52878.62489854591'],\n",
       "                                            'value': ['2196350.302335819']}),\n",
       "                               defaultdict(list,\n",
       "                                           {'time': ['52883.62879427662'],\n",
       "                                            'value': ['2196350.302316437']}),\n",
       "                               defaultdict(list,\n",
       "                                           {'time': ['52888.63373186532'],\n",
       "                                            'value': ['2196350.30232575']}),\n",
       "                               defaultdict(list,\n",
       "                                           {'time': ['52893.63856834732'],\n",
       "                                            'value': ['2196350.302319302']}),\n",
       "                               defaultdict(list,\n",
       "                                           {'time': ['52898.64338885434'],\n",
       "                                            'value': ['2196350.30231861']}),\n",
       "                               defaultdict(list,\n",
       "                                           {'time': ['52903.64612406213'],\n",
       "                                            'value': ['2196350.302314701']}),\n",
       "                               defaultdict(list,\n",
       "                                           {'time': ['52908.64895459265'],\n",
       "                                            'value': ['2196350.302331443']}),\n",
       "                               defaultdict(list,\n",
       "                                           {'time': ['52913.65391986677'],\n",
       "                                            'value': ['2196350.302316606']}),\n",
       "                               defaultdict(list,\n",
       "                                           {'time': ['52918.65796385799'],\n",
       "                                            'value': ['2196350.302317965']}),\n",
       "                               defaultdict(list,\n",
       "                                           {'time': ['52923.66232791077'],\n",
       "                                            'value': ['2196350.302340998']}),\n",
       "                               defaultdict(list,\n",
       "                                           {'time': ['52928.66359101376'],\n",
       "                                            'value': ['2196350.302339148']}),\n",
       "                               defaultdict(list,\n",
       "                                           {'time': ['52933.66850800207'],\n",
       "                                            'value': ['2196350.302321278']}),\n",
       "                               defaultdict(list,\n",
       "                                           {'time': ['52938.67261350807'],\n",
       "                                            'value': ['2196350.302323646']}),\n",
       "                               defaultdict(list,\n",
       "                                           {'time': ['52943.67646357883'],\n",
       "                                            'value': ['2196350.302326666']}),\n",
       "                               defaultdict(list,\n",
       "                                           {'time': ['52948.67939612363'],\n",
       "                                            'value': ['2196350.302330846']}),\n",
       "                               defaultdict(list,\n",
       "                                           {'time': ['52953.68418129627'],\n",
       "                                            'value': ['2196350.302329739']}),\n",
       "                               defaultdict(list,\n",
       "                                           {'time': ['52958.68684473773'],\n",
       "                                            'value': ['2196350.302333438']}),\n",
       "                               defaultdict(list,\n",
       "                                           {'time': ['52963.69147578208'],\n",
       "                                            'value': ['2196350.302322851']}),\n",
       "                               defaultdict(list,\n",
       "                                           {'time': ['52968.69622895494'],\n",
       "                                            'value': ['2196350.302326233']}),\n",
       "                               defaultdict(list,\n",
       "                                           {'time': ['52973.70096062124'],\n",
       "                                            'value': ['2196350.30232445']}),\n",
       "                               defaultdict(list,\n",
       "                                           {'time': ['52978.7055606558'],\n",
       "                                            'value': ['2196350.302334815']}),\n",
       "                               defaultdict(list,\n",
       "                                           {'time': ['52983.70895688841'],\n",
       "                                            'value': ['2196350.302332992']}),\n",
       "                               defaultdict(list,\n",
       "                                           {'time': ['52988.71455438621'],\n",
       "                                            'value': ['2196350.302327543']}),\n",
       "                               defaultdict(list,\n",
       "                                           {'time': ['52993.71986822924'],\n",
       "                                            'value': ['2196350.302291847']}),\n",
       "                               defaultdict(list,\n",
       "                                           {'time': ['52998.72191290557'],\n",
       "                                            'value': ['2196350.302338065']}),\n",
       "                               defaultdict(list,\n",
       "                                           {'time': ['53003.72572762845'],\n",
       "                                            'value': ['2196350.302320246']}),\n",
       "                               defaultdict(list,\n",
       "                                           {'time': ['53008.72995131509'],\n",
       "                                            'value': ['2196350.302330999']}),\n",
       "                               defaultdict(list,\n",
       "                                           {'time': ['53013.733823027'],\n",
       "                                            'value': ['2196350.302326145']})]})]})},\n",
       "  'time_series': array([[     0.     ,      0.     ,      0.     , ...,   2835.587  ,\n",
       "          -23207.57   ,  -1120.3589 ],\n",
       "         [     0.     ,      0.     ,      0.     , ...,   2957.7617 ,\n",
       "          -22829.244  ,   -853.07666],\n",
       "         [     0.     ,      0.     ,      0.     , ...,   2943.4119 ,\n",
       "          -22502.418  ,   -788.2119 ],\n",
       "         ...,\n",
       "         [     0.     ,      0.     ,      0.     , ...,  14739.992  ,\n",
       "          -19384.572  ,  13450.185  ],\n",
       "         [     0.     ,      0.     ,      0.     , ...,  14259.81   ,\n",
       "          -20047.994  ,  13040.79   ],\n",
       "         [     0.     ,      0.     ,      0.     , ...,  13937.564  ,\n",
       "          -20469.482  ,  12725.385  ]], dtype=float32),\n",
       "  'time_stamps': array([2249099.3071462 , 2249099.3125524 , 2249099.3179586 , ...,\n",
       "         2249361.54587088, 2249361.55127708, 2249361.55668329])},\n",
       " {'info': defaultdict(list,\n",
       "              {'name': ['MyMarkerStream'],\n",
       "               'type': ['Markers'],\n",
       "               'channel_count': ['1'],\n",
       "               'channel_format': ['int32'],\n",
       "               'source_id': ['myuidw43536'],\n",
       "               'nominal_srate': ['0.000000000000000'],\n",
       "               'version': ['1.100000000000000'],\n",
       "               'created_at': ['12915.48209100000'],\n",
       "               'uid': ['1c8e9d5e-0a99-4323-9194-594e49956e93'],\n",
       "               'session_id': ['default'],\n",
       "               'hostname': ['LAPTOP-32V6JD3H'],\n",
       "               'v4address': [None],\n",
       "               'v4data_port': ['16572'],\n",
       "               'v4service_port': ['16572'],\n",
       "               'v6address': [None],\n",
       "               'v6data_port': ['16572'],\n",
       "               'v6service_port': ['16572'],\n",
       "               'desc': [None],\n",
       "               'stream_id': 2,\n",
       "               'effective_srate': 0}),\n",
       "  'footer': {'info': defaultdict(list,\n",
       "               {'first_timestamp': ['12935.5026632'],\n",
       "                'last_timestamp': ['13185.5120979'],\n",
       "                'sample_count': ['14'],\n",
       "                'clock_offsets': [defaultdict(list,\n",
       "                             {'offset': [defaultdict(list,\n",
       "                                           {'time': ['12930.45589988539'],\n",
       "                                            'value': ['2236173.377849116']}),\n",
       "                               defaultdict(list,\n",
       "                                           {'time': ['12935.46152663371'],\n",
       "                                            'value': ['2236173.376700941']}),\n",
       "                               defaultdict(list,\n",
       "                                           {'time': ['12940.46314627398'],\n",
       "                                            'value': ['2236173.376859228']}),\n",
       "                               defaultdict(list,\n",
       "                                           {'time': ['12945.46776192868'],\n",
       "                                            'value': ['2236173.377263298']}),\n",
       "                               defaultdict(list,\n",
       "                                           {'time': ['12950.4729106077'],\n",
       "                                            'value': ['2236173.376878222']}),\n",
       "                               defaultdict(list,\n",
       "                                           {'time': ['12955.47726027202'],\n",
       "                                            'value': ['2236173.376720807']}),\n",
       "                               defaultdict(list,\n",
       "                                           {'time': ['12960.48026439501'],\n",
       "                                            'value': ['2236173.376402296']}),\n",
       "                               defaultdict(list,\n",
       "                                           {'time': ['12965.48285123333'],\n",
       "                                            'value': ['2236173.376299387']}),\n",
       "                               defaultdict(list,\n",
       "                                           {'time': ['12970.48760143807'],\n",
       "                                            'value': ['2236173.376485988']}),\n",
       "                               defaultdict(list,\n",
       "                                           {'time': ['12975.48806985049'],\n",
       "                                            'value': ['2236173.376901424']}),\n",
       "                               defaultdict(list,\n",
       "                                           {'time': ['12980.49325040821'],\n",
       "                                            'value': ['2236173.375913284']}),\n",
       "                               defaultdict(list,\n",
       "                                           {'time': ['12985.49799127271'],\n",
       "                                            'value': ['2236173.376004095']}),\n",
       "                               defaultdict(list,\n",
       "                                           {'time': ['12990.49997652834'],\n",
       "                                            'value': ['2236173.376474241']}),\n",
       "                               defaultdict(list,\n",
       "                                           {'time': ['12995.50514778169'],\n",
       "                                            'value': ['2236173.375642451']}),\n",
       "                               defaultdict(list,\n",
       "                                           {'time': ['13000.50889742281'],\n",
       "                                            'value': ['2236173.375712251']}),\n",
       "                               defaultdict(list,\n",
       "                                           {'time': ['13005.51289638132'],\n",
       "                                            'value': ['2236173.375682096']}),\n",
       "                               defaultdict(list,\n",
       "                                           {'time': ['13010.51854106598'],\n",
       "                                            'value': ['2236173.374903909']}),\n",
       "                               defaultdict(list,\n",
       "                                           {'time': ['13015.52216308657'],\n",
       "                                            'value': ['2236173.375171581']}),\n",
       "                               defaultdict(list,\n",
       "                                           {'time': ['13020.52695969818'],\n",
       "                                            'value': ['2236173.375252859']}),\n",
       "                               defaultdict(list,\n",
       "                                           {'time': ['13025.52823093161'],\n",
       "                                            'value': ['2236173.374965359']}),\n",
       "                               defaultdict(list,\n",
       "                                           {'time': ['13030.53252975084'],\n",
       "                                            'value': ['2236173.375324951']}),\n",
       "                               defaultdict(list,\n",
       "                                           {'time': ['13035.53570382157'],\n",
       "                                            'value': ['2236173.37554742']}),\n",
       "                               defaultdict(list,\n",
       "                                           {'time': ['13040.53909860598'],\n",
       "                                            'value': ['2236173.37465262']}),\n",
       "                               defaultdict(list,\n",
       "                                           {'time': ['13045.54356707586'],\n",
       "                                            'value': ['2236173.374529669']}),\n",
       "                               defaultdict(list,\n",
       "                                           {'time': ['13050.5479125306'],\n",
       "                                            'value': ['2236173.374497333']}),\n",
       "                               defaultdict(list,\n",
       "                                           {'time': ['13055.5528107076'],\n",
       "                                            'value': ['2236173.374423133']}),\n",
       "                               defaultdict(list,\n",
       "                                           {'time': ['13060.55725623341'],\n",
       "                                            'value': ['2236173.37381278']}),\n",
       "                               defaultdict(list,\n",
       "                                           {'time': ['13065.56190273073'],\n",
       "                                            'value': ['2236173.374154887']}),\n",
       "                               defaultdict(list,\n",
       "                                           {'time': ['13070.56645451719'],\n",
       "                                            'value': ['2236173.374433175']}),\n",
       "                               defaultdict(list,\n",
       "                                           {'time': ['13075.57197531452'],\n",
       "                                            'value': ['2236173.37373217']}),\n",
       "                               defaultdict(list,\n",
       "                                           {'time': ['13080.57473270502'],\n",
       "                                            'value': ['2236173.373738946']}),\n",
       "                               defaultdict(list,\n",
       "                                           {'time': ['13085.57774647791'],\n",
       "                                            'value': ['2236173.373539582']}),\n",
       "                               defaultdict(list,\n",
       "                                           {'time': ['13090.58242325066'],\n",
       "                                            'value': ['2236173.373835744']}),\n",
       "                               defaultdict(list,\n",
       "                                           {'time': ['13095.58654810069'],\n",
       "                                            'value': ['2236173.373734439']}),\n",
       "                               defaultdict(list,\n",
       "                                           {'time': ['13100.5914424723'],\n",
       "                                            'value': ['2236173.373180523']}),\n",
       "                               defaultdict(list,\n",
       "                                           {'time': ['13105.59312363295'],\n",
       "                                            'value': ['2236173.372815616']}),\n",
       "                               defaultdict(list,\n",
       "                                           {'time': ['13110.59830419905'],\n",
       "                                            'value': ['2236173.372525112']}),\n",
       "                               defaultdict(list,\n",
       "                                           {'time': ['13115.60203607287'],\n",
       "                                            'value': ['2236173.372918061']}),\n",
       "                               defaultdict(list,\n",
       "                                           {'time': ['13120.60752816033'],\n",
       "                                            'value': ['2236173.371262083']}),\n",
       "                               defaultdict(list,\n",
       "                                           {'time': ['13125.60901852977'],\n",
       "                                            'value': ['2236173.37264728']}),\n",
       "                               defaultdict(list,\n",
       "                                           {'time': ['13130.61372353882'],\n",
       "                                            'value': ['2236173.37283601']}),\n",
       "                               defaultdict(list,\n",
       "                                           {'time': ['13135.61680352176'],\n",
       "                                            'value': ['2236173.372349686']}),\n",
       "                               defaultdict(list,\n",
       "                                           {'time': ['13140.62205118779'],\n",
       "                                            'value': ['2236173.371734519']}),\n",
       "                               defaultdict(list,\n",
       "                                           {'time': ['13145.62644889718'],\n",
       "                                            'value': ['2236173.372097925']}),\n",
       "                               defaultdict(list,\n",
       "                                           {'time': ['13150.63112553814'],\n",
       "                                            'value': ['2236173.372168091']}),\n",
       "                               defaultdict(list,\n",
       "                                           {'time': ['13155.63699096628'],\n",
       "                                            'value': ['2236173.370904363']}),\n",
       "                               defaultdict(list,\n",
       "                                           {'time': ['13160.64000526536'],\n",
       "                                            'value': ['2236173.371294349']}),\n",
       "                               defaultdict(list,\n",
       "                                           {'time': ['13165.64580646763'],\n",
       "                                            'value': ['2236173.371614086']}),\n",
       "                               defaultdict(list,\n",
       "                                           {'time': ['13170.65084786387'],\n",
       "                                            'value': ['2236173.371378404']}),\n",
       "                               defaultdict(list,\n",
       "                                           {'time': ['13175.65322175808'],\n",
       "                                            'value': ['2236173.371028429']}),\n",
       "                               defaultdict(list,\n",
       "                                           {'time': ['13180.6569829341'],\n",
       "                                            'value': ['2236173.3712786']}),\n",
       "                               defaultdict(list,\n",
       "                                           {'time': ['13185.66170321358'],\n",
       "                                            'value': ['2236173.370595356']}),\n",
       "                               defaultdict(list,\n",
       "                                           {'time': ['13190.66511830175'],\n",
       "                                            'value': ['2236173.37103085']})]})]})},\n",
       "  'time_series': array([[0],\n",
       "         [1],\n",
       "         [2],\n",
       "         [3],\n",
       "         [4],\n",
       "         [0],\n",
       "         [1],\n",
       "         [2],\n",
       "         [3],\n",
       "         [4],\n",
       "         [0],\n",
       "         [1],\n",
       "         [2],\n",
       "         [3],\n",
       "         [4]]),\n",
       "  'time_stamps': array([2249108.87993639, 2249118.87505465, 2249138.89328779,\n",
       "         2249158.88566658, 2249178.87531062, 2249198.87553831,\n",
       "         2249208.87830529, 2249228.88474542, 2249248.87139385,\n",
       "         2249268.87054996, 2249288.87444326, 2249298.88224341,\n",
       "         2249318.87085258, 2249338.88132632, 2249358.88318716])}]"
      ]
     },
     "execution_count": 2,
     "metadata": {},
     "output_type": "execute_result"
    }
   ],
   "source": [
    "streams"
   ]
  },
  {
   "cell_type": "code",
   "execution_count": 3,
   "metadata": {},
   "outputs": [],
   "source": [
    "raw_data = streams[0][\"time_series\"].T #From Steam variable this query is EEG data"
   ]
  },
  {
   "cell_type": "code",
   "execution_count": 4,
   "metadata": {},
   "outputs": [
    {
     "data": {
      "text/plain": [
       "(8, 48510)"
      ]
     },
     "execution_count": 4,
     "metadata": {},
     "output_type": "execute_result"
    }
   ],
   "source": [
    "raw_data.shape"
   ]
  },
  {
   "cell_type": "code",
   "execution_count": 5,
   "metadata": {},
   "outputs": [],
   "source": [
    "channels = ['CH1','CH2','CH3','CH4','CH5','CH6','CH7','CH8'] #Set your target EEG channel name\n",
    "info = mne.create_info(\n",
    "    ch_names= channels,\n",
    "    ch_types= ['eeg']*len(channels),\n",
    "    sfreq= 250 #OpenBCI Frequency acquistion\n",
    ")\n",
    "# Create MNE rawarray\n",
    "raw_mne = mne.io.RawArray(raw_data, info, verbose=False)"
   ]
  },
  {
   "cell_type": "code",
   "execution_count": 6,
   "metadata": {},
   "outputs": [
    {
     "data": {
      "text/html": [
       "<details open>\n",
       "    <summary><strong>General</strong></summary>\n",
       "    <table class=\"table table-hover table-striped table-sm table-responsive small\">\n",
       "        <tr>\n",
       "            <th>Measurement date</th>\n",
       "            \n",
       "            <td>Unknown</td>\n",
       "            \n",
       "        </tr>\n",
       "        <tr>\n",
       "            <th>Experimenter</th>\n",
       "            \n",
       "            <td>Unknown</td>\n",
       "            \n",
       "        </tr>\n",
       "        <tr>\n",
       "            <th>Participant</th>\n",
       "            \n",
       "            <td>Unknown</td>\n",
       "            \n",
       "        </tr>\n",
       "    </table>\n",
       "    </details>\n",
       "    <details open>\n",
       "        <summary><strong>Channels</strong></summary>\n",
       "        <table class=\"table table-hover table-striped table-sm table-responsive small\">\n",
       "            <tr>\n",
       "                <th>Digitized points</th>\n",
       "                \n",
       "                <td>Not available</td>\n",
       "                \n",
       "            </tr>\n",
       "            <tr>\n",
       "                <th>Good channels</th>\n",
       "                <td>8 EEG</td>\n",
       "            </tr>\n",
       "            <tr>\n",
       "                <th>Bad channels</th>\n",
       "                <td>None</td>\n",
       "            </tr>\n",
       "            <tr>\n",
       "                <th>EOG channels</th>\n",
       "                <td>Not available</td>\n",
       "            </tr>\n",
       "            <tr>\n",
       "                <th>ECG channels</th>\n",
       "                <td>Not available</td>\n",
       "            </tr>\n",
       "        </table>\n",
       "        </details>\n",
       "        <details open>\n",
       "            <summary><strong>Data</strong></summary>\n",
       "            <table class=\"table table-hover table-striped table-sm table-responsive small\">\n",
       "                \n",
       "                <tr>\n",
       "                    <th>Sampling frequency</th>\n",
       "                    <td>250.00 Hz</td>\n",
       "                </tr>\n",
       "                \n",
       "                \n",
       "                <tr>\n",
       "                    <th>Highpass</th>\n",
       "                    <td>0.00 Hz</td>\n",
       "                </tr>\n",
       "                \n",
       "                \n",
       "                <tr>\n",
       "                    <th>Lowpass</th>\n",
       "                    <td>125.00 Hz</td>\n",
       "                </tr>\n",
       "                \n",
       "                \n",
       "                \n",
       "                \n",
       "                <tr>\n",
       "                    <th>Duration</th>\n",
       "                    <td>00:03:15 (HH:MM:SS)</td>\n",
       "                </tr>\n",
       "                \n",
       "            </table>\n",
       "            </details>"
      ],
      "text/plain": [
       "<RawArray | 8 x 48510 (194.0 s), ~3.0 MB, data loaded>"
      ]
     },
     "execution_count": 6,
     "metadata": {},
     "output_type": "execute_result"
    }
   ],
   "source": [
    "raw_mne"
   ]
  },
  {
   "cell_type": "code",
   "execution_count": 7,
   "metadata": {},
   "outputs": [],
   "source": [
    "raw_mne_dropped = raw_mne.drop_channels(ch_names=['CH1','CH2','CH3','CH4'],on_missing='raise')"
   ]
  },
  {
   "cell_type": "code",
   "execution_count": 8,
   "metadata": {},
   "outputs": [
    {
     "data": {
      "text/html": [
       "<details open>\n",
       "    <summary><strong>General</strong></summary>\n",
       "    <table class=\"table table-hover table-striped table-sm table-responsive small\">\n",
       "        <tr>\n",
       "            <th>Measurement date</th>\n",
       "            \n",
       "            <td>Unknown</td>\n",
       "            \n",
       "        </tr>\n",
       "        <tr>\n",
       "            <th>Experimenter</th>\n",
       "            \n",
       "            <td>Unknown</td>\n",
       "            \n",
       "        </tr>\n",
       "        <tr>\n",
       "            <th>Participant</th>\n",
       "            \n",
       "            <td>Unknown</td>\n",
       "            \n",
       "        </tr>\n",
       "    </table>\n",
       "    </details>\n",
       "    <details open>\n",
       "        <summary><strong>Channels</strong></summary>\n",
       "        <table class=\"table table-hover table-striped table-sm table-responsive small\">\n",
       "            <tr>\n",
       "                <th>Digitized points</th>\n",
       "                \n",
       "                <td>Not available</td>\n",
       "                \n",
       "            </tr>\n",
       "            <tr>\n",
       "                <th>Good channels</th>\n",
       "                <td>4 EEG</td>\n",
       "            </tr>\n",
       "            <tr>\n",
       "                <th>Bad channels</th>\n",
       "                <td>None</td>\n",
       "            </tr>\n",
       "            <tr>\n",
       "                <th>EOG channels</th>\n",
       "                <td>Not available</td>\n",
       "            </tr>\n",
       "            <tr>\n",
       "                <th>ECG channels</th>\n",
       "                <td>Not available</td>\n",
       "            </tr>\n",
       "        </table>\n",
       "        </details>\n",
       "        <details open>\n",
       "            <summary><strong>Data</strong></summary>\n",
       "            <table class=\"table table-hover table-striped table-sm table-responsive small\">\n",
       "                \n",
       "                <tr>\n",
       "                    <th>Sampling frequency</th>\n",
       "                    <td>250.00 Hz</td>\n",
       "                </tr>\n",
       "                \n",
       "                \n",
       "                <tr>\n",
       "                    <th>Highpass</th>\n",
       "                    <td>0.00 Hz</td>\n",
       "                </tr>\n",
       "                \n",
       "                \n",
       "                <tr>\n",
       "                    <th>Lowpass</th>\n",
       "                    <td>125.00 Hz</td>\n",
       "                </tr>\n",
       "                \n",
       "                \n",
       "                \n",
       "                \n",
       "                <tr>\n",
       "                    <th>Duration</th>\n",
       "                    <td>00:03:15 (HH:MM:SS)</td>\n",
       "                </tr>\n",
       "                \n",
       "            </table>\n",
       "            </details>"
      ],
      "text/plain": [
       "<RawArray | 4 x 48510 (194.0 s), ~1.5 MB, data loaded>"
      ]
     },
     "execution_count": 8,
     "metadata": {},
     "output_type": "execute_result"
    }
   ],
   "source": [
    "raw_mne_dropped"
   ]
  },
  {
   "cell_type": "code",
   "execution_count": 52,
   "metadata": {},
   "outputs": [],
   "source": [
    "event_index = streams[1][\"time_series\"].T[0] #Get all event marker of experiment \n",
    "event_timestamp = streams[1][\"time_stamps\"].T #Timestamp when event marked"
   ]
  },
  {
   "cell_type": "code",
   "execution_count": 53,
   "metadata": {},
   "outputs": [
    {
     "data": {
      "text/plain": [
       "array([0, 1, 2, 3, 4, 0, 1, 2, 3, 4, 0, 1, 2, 3, 4])"
      ]
     },
     "execution_count": 53,
     "metadata": {},
     "output_type": "execute_result"
    }
   ],
   "source": [
    "event_index"
   ]
  },
  {
   "cell_type": "code",
   "execution_count": 54,
   "metadata": {},
   "outputs": [
    {
     "data": {
      "text/plain": [
       "2249108.8799363854"
      ]
     },
     "execution_count": 54,
     "metadata": {},
     "output_type": "execute_result"
    }
   ],
   "source": [
    "streams[1][\"time_stamps\"][0]"
   ]
  },
  {
   "cell_type": "code",
   "execution_count": 55,
   "metadata": {},
   "outputs": [
    {
     "name": "stdout",
     "output_type": "stream",
     "text": [
      "<class 'numpy.ndarray'>\n"
     ]
    }
   ],
   "source": [
    "event_timestamp = [0]\n",
    "for i in range(1,len(streams[1][\"time_series\"])):\n",
    "    event_timestamp.append( int(streams[1][\"time_stamps\"][i])-int(streams[1][\"time_stamps\"][0]))\n",
    "event_timestamp\n",
    "event_timestamp = np.array(event_timestamp)\n",
    "event_timestamp = event_timestamp.T\n",
    "print(type(event_timestamp))"
   ]
  },
  {
   "cell_type": "code",
   "execution_count": 56,
   "metadata": {},
   "outputs": [],
   "source": [
    "events = np.column_stack((np.array(event_timestamp, dtype = int),\n",
    "                        np.zeros(len(event_timestamp), dtype = int),\n",
    "                        np.array(event_index, dtype = int)))"
   ]
  },
  {
   "cell_type": "code",
   "execution_count": 57,
   "metadata": {},
   "outputs": [
    {
     "data": {
      "text/plain": [
       "(array([[-19073.5703125 , -16517.29101562, -14282.07226562, ...,\n",
       "         -12297.97460938, -12266.97265625, -12308.92675781]]),\n",
       " array([0.00000e+00, 4.00000e-03, 8.00000e-03, ..., 1.94028e+02,\n",
       "        1.94032e+02, 1.94036e+02]))"
      ]
     },
     "execution_count": 57,
     "metadata": {},
     "output_type": "execute_result"
    }
   ],
   "source": [
    "raw_mne_dropped[0]"
   ]
  },
  {
   "cell_type": "code",
   "execution_count": 68,
   "metadata": {},
   "outputs": [
    {
     "data": {
      "text/plain": [
       "array([[  0,   0,   0],\n",
       "       [ 10,   0,   1],\n",
       "       [ 30,   0,   2],\n",
       "       [ 50,   0,   3],\n",
       "       [ 70,   0,   4],\n",
       "       [ 90,   0,   0],\n",
       "       [100,   0,   1],\n",
       "       [120,   0,   2],\n",
       "       [140,   0,   3],\n",
       "       [160,   0,   4],\n",
       "       [180,   0,   0],\n",
       "       [190,   0,   1],\n",
       "       [210,   0,   2],\n",
       "       [230,   0,   3],\n",
       "       [250,   0,   4]])"
      ]
     },
     "execution_count": 68,
     "metadata": {},
     "output_type": "execute_result"
    }
   ],
   "source": [
    "events"
   ]
  },
  {
   "cell_type": "code",
   "execution_count": 74,
   "metadata": {},
   "outputs": [
    {
     "name": "stdout",
     "output_type": "stream",
     "text": [
      "Not setting metadata\n",
      "15 matching events found\n",
      "Applying baseline correction (mode: mean)\n",
      "0 projection items activated\n",
      "Using data from preloaded Raw for 15 events and 5001 original time points ...\n",
      "0 bad epochs dropped\n"
     ]
    }
   ],
   "source": [
    "\n",
    "\n",
    "events_id = { # Set up your event name\n",
    "     'break': 0,\n",
    "     'forward': 1,\n",
    "     'left': 2,\n",
    "     'right': 3,\n",
    "     'backward': 4,\n",
    "     \n",
    "}\n",
    "\n",
    "\n",
    "mne_epochs = mne.Epochs(raw_mne_dropped, events, \n",
    "        tmin= 0.0,     # init timestamp of epoch (0 means trigger timestamp same as event start)\n",
    "        tmax= 20.0,    # final timestamp (10 means set epoch duration 10 second)\n",
    "        event_id =events_id,\n",
    "     #    reject= dict(eeg = 40e-6),\n",
    "     #    flat= dict(eeg = 1e-6),\n",
    "        preload = True,\n",
    "        baseline = (0.0,0.5)\n",
    "        \n",
    "    )\n",
    "\n"
   ]
  },
  {
   "cell_type": "code",
   "execution_count": 80,
   "metadata": {},
   "outputs": [
    {
     "data": {
      "text/html": [
       "<table class=\"table table-hover table-striped table-sm table-responsive small\">\n",
       "    <tr>\n",
       "        <th>Number of events</th>\n",
       "        <td>15</td>\n",
       "    </tr>\n",
       "    <tr>\n",
       "        <th>Events</th>\n",
       "        \n",
       "        <td>backward: 3<br/>break: 3<br/>forward: 3<br/>left: 3<br/>right: 3</td>\n",
       "        \n",
       "    </tr>\n",
       "    <tr>\n",
       "        <th>Time range</th>\n",
       "        <td>0.000 – 20.000 s</td>\n",
       "    </tr>\n",
       "    <tr>\n",
       "        <th>Baseline</th>\n",
       "        <td>0.000 – 0.500 s</td>\n",
       "    </tr>\n",
       "</table>"
      ],
      "text/plain": [
       "<Epochs |  15 events (all good), 0 – 20 s, baseline 0 – 0.5 s, ~2.3 MB, data loaded,\n",
       " 'break': 3\n",
       " 'forward': 3\n",
       " 'left': 3\n",
       " 'right': 3\n",
       " 'backward': 3>"
      ]
     },
     "execution_count": 80,
     "metadata": {},
     "output_type": "execute_result"
    }
   ],
   "source": [
    "mne_epochs"
   ]
  },
  {
   "cell_type": "code",
   "execution_count": 76,
   "metadata": {},
   "outputs": [],
   "source": [
    "dropped_log = mne_epochs.plot_drop_log"
   ]
  },
  {
   "cell_type": "code",
   "execution_count": 77,
   "metadata": {},
   "outputs": [
    {
     "data": {
      "text/plain": [
       "<bound method BaseEpochs.plot_drop_log of <Epochs |  15 events (all good), 0 – 20 s, baseline 0 – 0.5 s, ~2.3 MB, data loaded,\n",
       " 'break': 3\n",
       " 'forward': 3\n",
       " 'left': 3\n",
       " 'right': 3\n",
       " 'backward': 3>>"
      ]
     },
     "execution_count": 77,
     "metadata": {},
     "output_type": "execute_result"
    }
   ],
   "source": [
    "dropped_log"
   ]
  },
  {
   "cell_type": "code",
   "execution_count": 83,
   "metadata": {},
   "outputs": [
    {
     "data": {
      "image/png": "[encoded data removed]",
      "text/plain": [
       "<MNEBrowseFigure size 800x800 with 4 Axes>"
      ]
     },
     "metadata": {},
     "output_type": "display_data"
    },
    {
     "data": {
      "image/png": "[encoded data removed]",
      "text/plain": [
       "<MNEBrowseFigure size 800x800 with 4 Axes>"
      ]
     },
     "execution_count": 83,
     "metadata": {},
     "output_type": "execute_result"
    }
   ],
   "source": [
    "mne_epochs.plot(scalings = 8000)\n"
   ]
  }
 ],
 "metadata": {
  "kernelspec": {
   "display_name": "base",
   "language": "python",
   "name": "python3"
  },
  "language_info": {
   "codemirror_mode": {
    "name": "ipython",
    "version": 3
   },
   "file_extension": ".py",
   "mimetype": "text/x-python",
   "name": "python",
   "nbconvert_exporter": "python",
   "pygments_lexer": "ipython3",
   "version": "3.12.3"
  }
 },
 "nbformat": 4,
 "nbformat_minor": 2
}
