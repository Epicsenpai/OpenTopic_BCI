{
 "cells": [
  {
   "cell_type": "code",
   "execution_count": 1732,
   "metadata": {},
   "outputs": [
    {
     "name": "stderr",
     "output_type": "stream",
     "text": [
      "Stream 2: Calculated effective sampling rate 784.2982 Hz is different from specified rate 250.0000 Hz.\n"
     ]
    }
   ],
   "source": [
    "import pyxdf\n",
    "import mne\n",
    "import numpy as np\n",
    "# streams, header = pyxdf.load_xdf(\"sub-P005/ses-S001/eeg/sub-P005_ses-S001_task-Default_run-001_eeg.xdf\") #Example Data from Lab Recoder\n",
    "streams, header = pyxdf.load_xdf(\"18maypbao\\sub-P001\\ses-S001\\eeg\\sub-P001_ses-S001_task-Default_run-001_eeg.xdf\")\n",
    "# streams, header = pyxdf.load_xdf(\"18maypbao\\sub-P001\\ses-S002\\eeg\\sub-P001_ses-S002_task-Default_run-001_eeg.xdf\")\n",
    "\n"
   ]
  },
  {
   "cell_type": "code",
   "execution_count": 1733,
   "metadata": {},
   "outputs": [
    {
     "data": {
      "text/plain": [
       "{'info': defaultdict(list,\n",
       "             {'name': ['obci_eeg3'],\n",
       "              'type': ['EEG'],\n",
       "              'channel_count': ['125'],\n",
       "              'nominal_srate': ['250'],\n",
       "              'channel_format': ['float32'],\n",
       "              'source_id': ['openbcigui'],\n",
       "              'version': ['1.1000000000000001'],\n",
       "              'created_at': ['101148.4772216'],\n",
       "              'uid': ['5d847615-0cd4-4d88-8b23-1c8416c20fc7'],\n",
       "              'session_id': ['default'],\n",
       "              'hostname': ['DesktopFifa'],\n",
       "              'v4address': [None],\n",
       "              'v4data_port': ['16574'],\n",
       "              'v4service_port': ['16574'],\n",
       "              'v6address': [None],\n",
       "              'v6data_port': ['16574'],\n",
       "              'v6service_port': ['16574'],\n",
       "              'desc': [None],\n",
       "              'stream_id': 2,\n",
       "              'effective_srate': 784.2981940582713}),\n",
       " 'footer': {'info': defaultdict(list,\n",
       "              {'first_timestamp': ['101370.4473356'],\n",
       "               'last_timestamp': ['101671.9827895'],\n",
       "               'sample_count': ['236607'],\n",
       "               'clock_offsets': [defaultdict(list,\n",
       "                            {'offset': [defaultdict(list,\n",
       "                                          {'time': ['101376.12386505'],\n",
       "                                           'value': ['-1.295000402024016e-05']}),\n",
       "                              defaultdict(list,\n",
       "                                          {'time': ['101381.13067135'],\n",
       "                                           'value': ['-1.225000596605241e-05']}),\n",
       "                              defaultdict(list,\n",
       "                                          {'time': ['101386.13171015'],\n",
       "                                           'value': ['-8.149996574502438e-06']}),\n",
       "                              defaultdict(list,\n",
       "                                          {'time': ['101391.13629835'],\n",
       "                                           'value': ['-1.625000732019544e-05']}),\n",
       "                              defaultdict(list,\n",
       "                                          {'time': ['101396.14529335'],\n",
       "                                           'value': ['-7.949995051603764e-06']}),\n",
       "                              defaultdict(list,\n",
       "                                          {'time': ['101401.1509104'],\n",
       "                                           'value': ['-7.999995432328433e-06']}),\n",
       "                              defaultdict(list,\n",
       "                                          {'time': ['101406.15550675'],\n",
       "                                           'value': ['-1.375000283587724e-05']}),\n",
       "                              defaultdict(list,\n",
       "                                          {'time': ['101411.16102835'],\n",
       "                                           'value': ['-1.05500002973713e-05']}),\n",
       "                              defaultdict(list,\n",
       "                                          {'time': ['101416.16647675'],\n",
       "                                           'value': ['-1.214999792864546e-05']}),\n",
       "                              defaultdict(list,\n",
       "                                          {'time': ['101421.1741422'],\n",
       "                                           'value': ['-1.550000160932541e-05']}),\n",
       "                              defaultdict(list,\n",
       "                                          {'time': ['101426.1825086'],\n",
       "                                           'value': ['-3.299996023997664e-06']}),\n",
       "                              defaultdict(list,\n",
       "                                          {'time': ['101431.1842971'],\n",
       "                                           'value': ['-1.610000617802143e-05']}),\n",
       "                              defaultdict(list,\n",
       "                                          {'time': ['101436.1917592'],\n",
       "                                           'value': ['-9.000003046821803e-06']}),\n",
       "                              defaultdict(list,\n",
       "                                          {'time': ['101441.195245'],\n",
       "                                           'value': ['-9.2999980552122e-06']}),\n",
       "                              defaultdict(list,\n",
       "                                          {'time': ['101446.197447'],\n",
       "                                           'value': ['1.299995346926153e-06']}),\n",
       "                              defaultdict(list,\n",
       "                                          {'time': ['101451.2064571'],\n",
       "                                           'value': ['5.500005499925464e-06']}),\n",
       "                              defaultdict(list,\n",
       "                                          {'time': ['101456.21020975'],\n",
       "                                           'value': ['-1.064999378286302e-05']}),\n",
       "                              defaultdict(list,\n",
       "                                          {'time': ['101461.2213741'],\n",
       "                                           'value': ['-1.370000245515257e-05']}),\n",
       "                              defaultdict(list,\n",
       "                                          {'time': ['101466.22704495'],\n",
       "                                           'value': ['-8.94999539013952e-06']}),\n",
       "                              defaultdict(list,\n",
       "                                          {'time': ['101471.2364154'],\n",
       "                                           'value': ['-1.780000457074493e-05']}),\n",
       "                              defaultdict(list,\n",
       "                                          {'time': ['101476.24634135'],\n",
       "                                           'value': ['-7.850001566112041e-06']}),\n",
       "                              defaultdict(list,\n",
       "                                          {'time': ['101481.24974645'],\n",
       "                                           'value': ['-1.714999962132424e-05']}),\n",
       "                              defaultdict(list,\n",
       "                                          {'time': ['101486.25750835'],\n",
       "                                           'value': ['-1.155000063590705e-05']}),\n",
       "                              defaultdict(list,\n",
       "                                          {'time': ['101491.2662666'],\n",
       "                                           'value': ['-2.179999864893034e-05']}),\n",
       "                              defaultdict(list,\n",
       "                                          {'time': ['101496.27381335'],\n",
       "                                           'value': ['-4.449990228749812e-06']}),\n",
       "                              defaultdict(list,\n",
       "                                          {'time': ['101501.28052535'],\n",
       "                                           'value': ['-8.249990059994161e-06']}),\n",
       "                              defaultdict(list,\n",
       "                                          {'time': ['101506.28727525'],\n",
       "                                           'value': ['-1.414999132975936e-05']}),\n",
       "                              defaultdict(list,\n",
       "                                          {'time': ['101511.29177665'],\n",
       "                                           'value': ['-8.850001904647797e-06']}),\n",
       "                              defaultdict(list,\n",
       "                                          {'time': ['101516.29761385'],\n",
       "                                           'value': ['-9.549999958835542e-06']}),\n",
       "                              defaultdict(list,\n",
       "                                          {'time': ['101521.3052534'],\n",
       "                                           'value': ['-1.630000042496249e-05']}),\n",
       "                              defaultdict(list,\n",
       "                                          {'time': ['101526.3143377'],\n",
       "                                           'value': ['-3.300003299955279e-06']}),\n",
       "                              defaultdict(list,\n",
       "                                          {'time': ['101531.3171051'],\n",
       "                                           'value': ['-1.18000025395304e-05']}),\n",
       "                              defaultdict(list,\n",
       "                                          {'time': ['101536.3219731'],\n",
       "                                           'value': ['-1.250000059371814e-05']}),\n",
       "                              defaultdict(list,\n",
       "                                          {'time': ['101541.3284277'],\n",
       "                                           'value': ['-7.299997378140688e-06']}),\n",
       "                              defaultdict(list,\n",
       "                                          {'time': ['101546.33311195'],\n",
       "                                           'value': ['-3.649998689070344e-06']}),\n",
       "                              defaultdict(list,\n",
       "                                          {'time': ['101551.3404745'],\n",
       "                                           'value': ['-3.900000592693686e-06']}),\n",
       "                              defaultdict(list,\n",
       "                                          {'time': ['101556.35041785'],\n",
       "                                           'value': ['-1.415000588167459e-05']}),\n",
       "                              defaultdict(list,\n",
       "                                          {'time': ['101561.3656421'],\n",
       "                                           'value': ['-1.340000017080456e-05']}),\n",
       "                              defaultdict(list,\n",
       "                                          {'time': ['101566.3695726'],\n",
       "                                           'value': ['-1.100000372389331e-05']}),\n",
       "                              defaultdict(list,\n",
       "                                          {'time': ['101571.37522885'],\n",
       "                                           'value': ['9.499999578110874e-07']}),\n",
       "                              defaultdict(list,\n",
       "                                          {'time': ['101576.37941525'],\n",
       "                                           'value': ['-1.275000249734148e-05']}),\n",
       "                              defaultdict(list,\n",
       "                                          {'time': ['101581.38325535'],\n",
       "                                           'value': ['-1.104999682866037e-05']}),\n",
       "                              defaultdict(list,\n",
       "                                          {'time': ['101586.3887515'],\n",
       "                                           'value': ['-1.039999915519729e-05']}),\n",
       "                              defaultdict(list,\n",
       "                                          {'time': ['101591.39127995'],\n",
       "                                           'value': ['-7.750000804662704e-06']}),\n",
       "                              defaultdict(list,\n",
       "                                          {'time': ['101596.403267'],\n",
       "                                           'value': ['-1.079999492503703e-05']}),\n",
       "                              defaultdict(list,\n",
       "                                          {'time': ['101601.4094835'],\n",
       "                                           'value': ['-7.199996616691351e-06']}),\n",
       "                              defaultdict(list,\n",
       "                                          {'time': ['101606.41402825'],\n",
       "                                           'value': ['-8.150003850460052e-06']}),\n",
       "                              defaultdict(list,\n",
       "                                          {'time': ['101611.42271495'],\n",
       "                                           'value': ['-2.749991836026311e-06']}),\n",
       "                              defaultdict(list,\n",
       "                                          {'time': ['101616.4303365'],\n",
       "                                           'value': ['-1.580000389367342e-05']}),\n",
       "                              defaultdict(list,\n",
       "                                          {'time': ['101621.4351021'],\n",
       "                                           'value': ['-1.230000634677708e-05']}),\n",
       "                              defaultdict(list,\n",
       "                                          {'time': ['101626.43938705'],\n",
       "                                           'value': ['-4.250003257766366e-06']}),\n",
       "                              defaultdict(list,\n",
       "                                          {'time': ['101631.44418475'],\n",
       "                                           'value': ['-2.150001819245517e-06']}),\n",
       "                              defaultdict(list,\n",
       "                                          {'time': ['101636.4472451'],\n",
       "                                           'value': ['-8.500006515532732e-06']}),\n",
       "                              defaultdict(list,\n",
       "                                          {'time': ['101641.4501914'],\n",
       "                                           'value': ['-5.49999822396785e-06']}),\n",
       "                              defaultdict(list,\n",
       "                                          {'time': ['101646.45459355'],\n",
       "                                           'value': ['-1.044999225996435e-05']}),\n",
       "                              defaultdict(list,\n",
       "                                          {'time': ['101651.46257355'],\n",
       "                                           'value': ['-9.650007996242493e-06']}),\n",
       "                              defaultdict(list,\n",
       "                                          {'time': ['101656.46963775'],\n",
       "                                           'value': ['-1.364999479847029e-05']}),\n",
       "                              defaultdict(list,\n",
       "                                          {'time': ['101661.47674925'],\n",
       "                                           'value': ['-6.150010449346155e-06']}),\n",
       "                              defaultdict(list,\n",
       "                                          {'time': ['101666.48128605'],\n",
       "                                           'value': ['-4.349996743258089e-06']}),\n",
       "                              defaultdict(list,\n",
       "                                          {'time': ['101671.49214725'],\n",
       "                                           'value': ['-1.350003003608435e-06']}),\n",
       "                              defaultdict(list,\n",
       "                                          {'time': ['101676.5046438'],\n",
       "                                           'value': ['-7.799993909429759e-06']})]})]})},\n",
       " 'time_series': array([[0.2517023 , 0.34007064, 0.16122366, ..., 0.06927331, 0.06901329,\n",
       "         0.06879987],\n",
       "        [0.47117004, 0.6388223 , 0.18211885, ..., 0.09419075, 0.09393135,\n",
       "         0.09371828],\n",
       "        [0.72863936, 0.99368674, 0.2941409 , ..., 0.14279757, 0.14165254,\n",
       "         0.14069332],\n",
       "        ...,\n",
       "        [0.05282184, 0.06345028, 0.10238704, ..., 0.01000013, 0.01000012,\n",
       "         0.01000012],\n",
       "        [0.01      , 0.01      , 0.01      , ..., 0.01      , 0.01      ,\n",
       "         0.01      ],\n",
       "        [0.01      , 0.01      , 0.01      , ..., 0.01      , 0.01      ,\n",
       "         0.01      ]], dtype=float32),\n",
       " 'time_stamps': array([101370.57223664, 101370.57351166, 101370.57478667, ...,\n",
       "        101672.24686068, 101672.24813569, 101672.24941071])}"
      ]
     },
     "execution_count": 1733,
     "metadata": {},
     "output_type": "execute_result"
    }
   ],
   "source": [
    "streams[2]"
   ]
  },
  {
   "cell_type": "code",
   "execution_count": 1734,
   "metadata": {},
   "outputs": [],
   "source": [
    "raw_data = streams[0][\"time_series\"].T #From Steam variable this query is EEG data"
   ]
  },
  {
   "cell_type": "code",
   "execution_count": 1735,
   "metadata": {},
   "outputs": [
    {
     "data": {
      "text/plain": [
       "(8, 75450)"
      ]
     },
     "execution_count": 1735,
     "metadata": {},
     "output_type": "execute_result"
    }
   ],
   "source": [
    "raw_data.shape"
   ]
  },
  {
   "cell_type": "code",
   "execution_count": 1736,
   "metadata": {},
   "outputs": [],
   "source": [
    "# channels = ['CH1','CH2','CH3','CH4','CH5','CH6','CH7','CH8'] #Set your target EEG channel name\n",
    "# info = mne.create_info(\n",
    "#     ch_names= channels,\n",
    "#     ch_types= ['eeg']*len(channels),\n",
    "#     sfreq= 250 #OpenBCI Frequency acquistion\n",
    "# )\n",
    "# # Create MNE rawarray\n",
    "# raw_mne = mne.io.RawArray(raw_data, info, verbose=False)"
   ]
  },
  {
   "cell_type": "code",
   "execution_count": 1737,
   "metadata": {},
   "outputs": [],
   "source": [
    "channels = ['CH1','CH2','CH3','CH4','CH5','CH6','CH7','CH8'] #Set your target EEG channel name\n",
    "info = mne.create_info(\n",
    "    ch_names= channels,\n",
    "    ch_types= ['eeg']*len(channels),\n",
    "    sfreq= 250 #OpenBCI Frequency acquistion\n",
    ")\n",
    "# Create MNE rawarray\n",
    "raw_mne = mne.io.RawArray(raw_data, info, verbose=False)"
   ]
  },
  {
   "cell_type": "code",
   "execution_count": 1738,
   "metadata": {},
   "outputs": [
    {
     "data": {
      "text/html": [
       "<details open>\n",
       "    <summary><strong>General</strong></summary>\n",
       "    <table class=\"table table-hover table-striped table-sm table-responsive small\">\n",
       "        <tr>\n",
       "            <th>Measurement date</th>\n",
       "            \n",
       "            <td>Unknown</td>\n",
       "            \n",
       "        </tr>\n",
       "        <tr>\n",
       "            <th>Experimenter</th>\n",
       "            \n",
       "            <td>Unknown</td>\n",
       "            \n",
       "        </tr>\n",
       "        <tr>\n",
       "            <th>Participant</th>\n",
       "            \n",
       "            <td>Unknown</td>\n",
       "            \n",
       "        </tr>\n",
       "    </table>\n",
       "    </details>\n",
       "    <details open>\n",
       "        <summary><strong>Channels</strong></summary>\n",
       "        <table class=\"table table-hover table-striped table-sm table-responsive small\">\n",
       "            <tr>\n",
       "                <th>Digitized points</th>\n",
       "                \n",
       "                <td>Not available</td>\n",
       "                \n",
       "            </tr>\n",
       "            <tr>\n",
       "                <th>Good channels</th>\n",
       "                <td>8 EEG</td>\n",
       "            </tr>\n",
       "            <tr>\n",
       "                <th>Bad channels</th>\n",
       "                <td>None</td>\n",
       "            </tr>\n",
       "            <tr>\n",
       "                <th>EOG channels</th>\n",
       "                <td>Not available</td>\n",
       "            </tr>\n",
       "            <tr>\n",
       "                <th>ECG channels</th>\n",
       "                <td>Not available</td>\n",
       "            </tr>\n",
       "        </table>\n",
       "        </details>\n",
       "        <details open>\n",
       "            <summary><strong>Data</strong></summary>\n",
       "            <table class=\"table table-hover table-striped table-sm table-responsive small\">\n",
       "                \n",
       "                <tr>\n",
       "                    <th>Sampling frequency</th>\n",
       "                    <td>250.00 Hz</td>\n",
       "                </tr>\n",
       "                \n",
       "                \n",
       "                <tr>\n",
       "                    <th>Highpass</th>\n",
       "                    <td>0.00 Hz</td>\n",
       "                </tr>\n",
       "                \n",
       "                \n",
       "                <tr>\n",
       "                    <th>Lowpass</th>\n",
       "                    <td>125.00 Hz</td>\n",
       "                </tr>\n",
       "                \n",
       "                \n",
       "                \n",
       "                \n",
       "                <tr>\n",
       "                    <th>Duration</th>\n",
       "                    <td>00:05:02 (HH:MM:SS)</td>\n",
       "                </tr>\n",
       "                \n",
       "            </table>\n",
       "            </details>"
      ],
      "text/plain": [
       "<RawArray | 8 x 75450 (301.8 s), ~4.6 MB, data loaded>"
      ]
     },
     "execution_count": 1738,
     "metadata": {},
     "output_type": "execute_result"
    }
   ],
   "source": [
    "raw_mne"
   ]
  },
  {
   "cell_type": "code",
   "execution_count": 1739,
   "metadata": {},
   "outputs": [],
   "source": [
    "raw_mne_dropped = raw_mne.drop_channels(ch_names=['CH7','CH8'],on_missing='raise')"
   ]
  },
  {
   "cell_type": "code",
   "execution_count": 1740,
   "metadata": {},
   "outputs": [
    {
     "data": {
      "text/html": [
       "<details open>\n",
       "    <summary><strong>General</strong></summary>\n",
       "    <table class=\"table table-hover table-striped table-sm table-responsive small\">\n",
       "        <tr>\n",
       "            <th>Measurement date</th>\n",
       "            \n",
       "            <td>Unknown</td>\n",
       "            \n",
       "        </tr>\n",
       "        <tr>\n",
       "            <th>Experimenter</th>\n",
       "            \n",
       "            <td>Unknown</td>\n",
       "            \n",
       "        </tr>\n",
       "        <tr>\n",
       "            <th>Participant</th>\n",
       "            \n",
       "            <td>Unknown</td>\n",
       "            \n",
       "        </tr>\n",
       "    </table>\n",
       "    </details>\n",
       "    <details open>\n",
       "        <summary><strong>Channels</strong></summary>\n",
       "        <table class=\"table table-hover table-striped table-sm table-responsive small\">\n",
       "            <tr>\n",
       "                <th>Digitized points</th>\n",
       "                \n",
       "                <td>Not available</td>\n",
       "                \n",
       "            </tr>\n",
       "            <tr>\n",
       "                <th>Good channels</th>\n",
       "                <td>6 EEG</td>\n",
       "            </tr>\n",
       "            <tr>\n",
       "                <th>Bad channels</th>\n",
       "                <td>None</td>\n",
       "            </tr>\n",
       "            <tr>\n",
       "                <th>EOG channels</th>\n",
       "                <td>Not available</td>\n",
       "            </tr>\n",
       "            <tr>\n",
       "                <th>ECG channels</th>\n",
       "                <td>Not available</td>\n",
       "            </tr>\n",
       "        </table>\n",
       "        </details>\n",
       "        <details open>\n",
       "            <summary><strong>Data</strong></summary>\n",
       "            <table class=\"table table-hover table-striped table-sm table-responsive small\">\n",
       "                \n",
       "                <tr>\n",
       "                    <th>Sampling frequency</th>\n",
       "                    <td>250.00 Hz</td>\n",
       "                </tr>\n",
       "                \n",
       "                \n",
       "                <tr>\n",
       "                    <th>Highpass</th>\n",
       "                    <td>0.00 Hz</td>\n",
       "                </tr>\n",
       "                \n",
       "                \n",
       "                <tr>\n",
       "                    <th>Lowpass</th>\n",
       "                    <td>125.00 Hz</td>\n",
       "                </tr>\n",
       "                \n",
       "                \n",
       "                \n",
       "                \n",
       "                <tr>\n",
       "                    <th>Duration</th>\n",
       "                    <td>00:05:02 (HH:MM:SS)</td>\n",
       "                </tr>\n",
       "                \n",
       "            </table>\n",
       "            </details>"
      ],
      "text/plain": [
       "<RawArray | 6 x 75450 (301.8 s), ~3.5 MB, data loaded>"
      ]
     },
     "execution_count": 1740,
     "metadata": {},
     "output_type": "execute_result"
    }
   ],
   "source": [
    "raw_mne_dropped"
   ]
  },
  {
   "cell_type": "code",
   "execution_count": 1741,
   "metadata": {},
   "outputs": [],
   "source": [
    "s = 3"
   ]
  },
  {
   "cell_type": "code",
   "execution_count": 1742,
   "metadata": {},
   "outputs": [],
   "source": [
    "event_index = streams[s][\"time_series\"].T[0] #Get all event marker of experiment \n",
    "event_timestamp = streams[s][\"time_stamps\"].T #Timestamp when event marked"
   ]
  },
  {
   "cell_type": "code",
   "execution_count": 1743,
   "metadata": {},
   "outputs": [
    {
     "data": {
      "text/plain": [
       "array([ 5,  0,  1,  2,  3,  4,  5,  0,  1,  2,  3,  4,  5,  0,  1,  2,  3,\n",
       "        4,  5,  0,  1,  2,  3,  4,  5,  0,  1,  2,  3,  4,  5, -1,  0])"
      ]
     },
     "execution_count": 1743,
     "metadata": {},
     "output_type": "execute_result"
    }
   ],
   "source": [
    "event_index"
   ]
  },
  {
   "cell_type": "code",
   "execution_count": 1744,
   "metadata": {},
   "outputs": [
    {
     "data": {
      "text/plain": [
       "101373.24617148504"
      ]
     },
     "execution_count": 1744,
     "metadata": {},
     "output_type": "execute_result"
    }
   ],
   "source": [
    "streams[s][\"time_stamps\"][0]"
   ]
  },
  {
   "cell_type": "code",
   "execution_count": 1745,
   "metadata": {},
   "outputs": [
    {
     "name": "stdout",
     "output_type": "stream",
     "text": [
      "<class 'numpy.ndarray'>\n"
     ]
    }
   ],
   "source": [
    "event_timestamp = [0]\n",
    "for i in range(1,len(streams[s][\"time_series\"])):\n",
    "    event_timestamp.append( int(streams[s][\"time_stamps\"][i])-int(streams[s][\"time_stamps\"][0]))\n",
    "event_timestamp\n",
    "event_timestamp = np.array(event_timestamp)\n",
    "event_timestamp = event_timestamp.T\n",
    "print(type(event_timestamp))"
   ]
  },
  {
   "cell_type": "code",
   "execution_count": 1746,
   "metadata": {},
   "outputs": [],
   "source": [
    "events = np.column_stack((np.array(event_timestamp, dtype = int),\n",
    "                        np.zeros(len(event_timestamp), dtype = int),\n",
    "                        np.array(event_index, dtype = int)))"
   ]
  },
  {
   "cell_type": "code",
   "execution_count": 1747,
   "metadata": {},
   "outputs": [
    {
     "data": {
      "text/plain": [
       "(array([[14695.57910156, 14770.79296875, 15507.99804688, ...,\n",
       "         15323.328125  , 15291.96875   , 15340.15820312]]),\n",
       " array([0.00000e+00, 4.00000e-03, 8.00000e-03, ..., 3.01788e+02,\n",
       "        3.01792e+02, 3.01796e+02]))"
      ]
     },
     "execution_count": 1747,
     "metadata": {},
     "output_type": "execute_result"
    }
   ],
   "source": [
    "raw_mne_dropped[0]"
   ]
  },
  {
   "cell_type": "code",
   "execution_count": 1748,
   "metadata": {},
   "outputs": [
    {
     "data": {
      "text/plain": [
       "array([[  0,   0,   5],\n",
       "       [  0,   0,   0],\n",
       "       [ 10,   0,   1],\n",
       "       [ 20,   0,   2],\n",
       "       [ 30,   0,   3],\n",
       "       [ 40,   0,   4],\n",
       "       [ 50,   0,   5],\n",
       "       [ 60,   0,   0],\n",
       "       [ 70,   0,   1],\n",
       "       [ 80,   0,   2],\n",
       "       [ 90,   0,   3],\n",
       "       [100,   0,   4],\n",
       "       [110,   0,   5],\n",
       "       [120,   0,   0],\n",
       "       [130,   0,   1],\n",
       "       [140,   0,   2],\n",
       "       [150,   0,   3],\n",
       "       [160,   0,   4],\n",
       "       [170,   0,   5],\n",
       "       [180,   0,   0],\n",
       "       [190,   0,   1],\n",
       "       [200,   0,   2],\n",
       "       [210,   0,   3],\n",
       "       [220,   0,   4],\n",
       "       [230,   0,   5],\n",
       "       [240,   0,   0],\n",
       "       [250,   0,   1],\n",
       "       [260,   0,   2],\n",
       "       [270,   0,   3],\n",
       "       [280,   0,   4],\n",
       "       [290,   0,   5],\n",
       "       [295,   0,  -1],\n",
       "       [296,   0,   0]])"
      ]
     },
     "execution_count": 1748,
     "metadata": {},
     "output_type": "execute_result"
    }
   ],
   "source": [
    "events"
   ]
  },
  {
   "cell_type": "code",
   "execution_count": 1749,
   "metadata": {},
   "outputs": [
    {
     "name": "stdout",
     "output_type": "stream",
     "text": [
      "Multiple event values for single event times found. Keeping the first occurrence and dropping all others.\n",
      "Not setting metadata\n",
      "32 matching events found\n",
      "Applying baseline correction (mode: mean)\n",
      "0 projection items activated\n",
      "Using data from preloaded Raw for 32 events and 3751 original time points ...\n",
      "0 bad epochs dropped\n"
     ]
    }
   ],
   "source": [
    "events_id = { # Set up your event name\n",
    "    'reset' : -1,\n",
    "   'baseline' : 0,\n",
    "   'forward': 1,\n",
    "   'left': 2,\n",
    "   'right': 3,\n",
    "   'backward': 4,\n",
    "   'break': 5\n",
    "}\n",
    "\n",
    "\n",
    "mne_epochs = mne.Epochs(raw_mne_dropped, events, \n",
    "        tmin= 0.0,     # init timestamp of epoch (0 means trigger timestamp same as event start)\n",
    "        tmax= 15.0,    # final timestamp (10 means set epoch duration 10 second)\n",
    "        event_id =events_id,\n",
    "     #    reject= dict(eeg = 40e-6),\n",
    "     #    flat= dict(eeg = 1e-6),\n",
    "        preload = True,\n",
    "        baseline = (0.0,0.5),\n",
    "        event_repeated='drop'\n",
    "        \n",
    "        \n",
    "    )\n",
    "\n"
   ]
  },
  {
   "cell_type": "code",
   "execution_count": 1750,
   "metadata": {},
   "outputs": [
    {
     "data": {
      "text/html": [
       "<table class=\"table table-hover table-striped table-sm table-responsive small\">\n",
       "    <tr>\n",
       "        <th>Number of events</th>\n",
       "        <td>32</td>\n",
       "    </tr>\n",
       "    <tr>\n",
       "        <th>Events</th>\n",
       "        \n",
       "        <td>backward: 5<br/>baseline: 5<br/>break: 6<br/>forward: 5<br/>left: 5<br/>reset: 1<br/>right: 5</td>\n",
       "        \n",
       "    </tr>\n",
       "    <tr>\n",
       "        <th>Time range</th>\n",
       "        <td>0.000 – 15.000 s</td>\n",
       "    </tr>\n",
       "    <tr>\n",
       "        <th>Baseline</th>\n",
       "        <td>0.000 – 0.500 s</td>\n",
       "    </tr>\n",
       "</table>"
      ],
      "text/plain": [
       "<Epochs |  32 events (all good), 0 – 15 s, baseline 0 – 0.5 s, ~5.5 MB, data loaded,\n",
       " 'reset': 1\n",
       " 'baseline': 5\n",
       " 'forward': 5\n",
       " 'left': 5\n",
       " 'right': 5\n",
       " 'backward': 5\n",
       " 'break': 6>"
      ]
     },
     "execution_count": 1750,
     "metadata": {},
     "output_type": "execute_result"
    }
   ],
   "source": [
    "mne_epochs"
   ]
  },
  {
   "cell_type": "code",
   "execution_count": 1751,
   "metadata": {},
   "outputs": [],
   "source": [
    "dropped_log = mne_epochs.plot_drop_log"
   ]
  },
  {
   "cell_type": "code",
   "execution_count": 1752,
   "metadata": {},
   "outputs": [
    {
     "data": {
      "text/plain": [
       "<bound method BaseEpochs.plot_drop_log of <Epochs |  32 events (all good), 0 – 15 s, baseline 0 – 0.5 s, ~5.5 MB, data loaded,\n",
       " 'reset': 1\n",
       " 'baseline': 5\n",
       " 'forward': 5\n",
       " 'left': 5\n",
       " 'right': 5\n",
       " 'backward': 5\n",
       " 'break': 6>>"
      ]
     },
     "execution_count": 1752,
     "metadata": {},
     "output_type": "execute_result"
    }
   ],
   "source": [
    "dropped_log"
   ]
  },
  {
   "cell_type": "code",
   "execution_count": 1753,
   "metadata": {},
   "outputs": [
    {
     "data": {
      "image/png": "[encoded data removed]",
      "text/plain": [
       "<MNEBrowseFigure size 800x800 with 4 Axes>"
      ]
     },
     "metadata": {},
     "output_type": "display_data"
    },
    {
     "data": {
      "image/png": "[encoded data removed]",
      "text/plain": [
       "<MNEBrowseFigure size 800x800 with 4 Axes>"
      ]
     },
     "execution_count": 1753,
     "metadata": {},
     "output_type": "execute_result"
    }
   ],
   "source": [
    "mne_epochs.plot(scalings = 8000)\n"
   ]
  },
  {
   "cell_type": "code",
   "execution_count": 1754,
   "metadata": {},
   "outputs": [
    {
     "name": "stdout",
     "output_type": "stream",
     "text": [
      "Setting up band-pass filter from 6 - 18 Hz\n",
      "\n",
      "IIR filter parameters\n",
      "---------------------\n",
      "Butterworth bandpass zero-phase (two-pass forward and reverse) non-causal filter:\n",
      "- Filter order 24 (effective, after forward-backward)\n",
      "- Cutoffs at 6.00, 18.00 Hz: -6.02, -6.02 dB\n",
      "\n"
     ]
    },
    {
     "data": {
      "image/png": "[encoded data removed]",
      "text/plain": [
       "<MNEBrowseFigure size 800x800 with 4 Axes>"
      ]
     },
     "metadata": {},
     "output_type": "display_data"
    },
    {
     "name": "stdout",
     "output_type": "stream",
     "text": [
      "...\n"
     ]
    }
   ],
   "source": [
    "mne_epochs.filter(l_freq=6.0, h_freq=18.0, method = 'iir', iir_params= {\"order\": 6, \"ftype\":'butter'}).plot(scalings = 100)\n",
    "print('...')"
   ]
  },
  {
   "cell_type": "code",
   "execution_count": 1755,
   "metadata": {},
   "outputs": [
    {
     "name": "stdout",
     "output_type": "stream",
     "text": [
      "(32, 6, 3751)\n"
     ]
    },
    {
     "name": "stderr",
     "output_type": "stream",
     "text": [
      "C:\\Users\\papin\\AppData\\Local\\Temp\\ipykernel_5356\\23489598.py:1: FutureWarning: The current default of copy=False will change to copy=True in 1.7. Set the value of copy explicitly to avoid this warning\n",
      "  print(mne_epochs.get_data().shape)\n",
      "C:\\Users\\papin\\AppData\\Local\\Temp\\ipykernel_5356\\23489598.py:2: FutureWarning: The current default of copy=False will change to copy=True in 1.7. Set the value of copy explicitly to avoid this warning\n",
      "  mne_epochs.get_data()\n"
     ]
    },
    {
     "data": {
      "text/plain": [
       "array([[[-2.73563852e-02,  1.22293497e+02,  2.32261588e+02, ...,\n",
       "         -2.34748752e+02, -1.23670901e+02, -9.00308016e-03],\n",
       "        [ 5.86787108e-02, -7.36485985e+01, -1.39766473e+02, ...,\n",
       "          1.74422398e+02,  9.19361217e+01, -3.81070001e-03],\n",
       "        [-7.07400737e-02,  2.37569070e+02,  4.51152234e+02, ...,\n",
       "         -4.78691871e+02, -2.52195802e+02, -7.98882818e-03],\n",
       "        [-1.02754886e-03, -4.10294123e+00, -7.67891718e+00, ...,\n",
       "          6.02221033e+00,  3.13373306e+00, -5.06799172e-03],\n",
       "        [-5.45457675e-02,  2.94765772e+02,  5.59643631e+02, ...,\n",
       "         -5.60167845e+02, -2.95111893e+02, -4.95180964e-03],\n",
       "        [-1.26444101e-03, -7.07468002e+00, -1.31928294e+01, ...,\n",
       "          9.19791669e+00,  4.84491839e+00, -5.49033305e-03]],\n",
       "\n",
       "       [[-2.82513125e-02,  1.22477284e+02,  2.32318713e+02, ...,\n",
       "         -2.34945965e+02, -1.23775025e+02,  7.52575720e-03],\n",
       "        [ 5.58226269e-02, -7.15425783e+01, -1.35966620e+02, ...,\n",
       "          1.70460301e+02,  8.98286606e+01,  2.83088026e-03],\n",
       "        [-7.56042785e-02,  2.39453830e+02,  4.54419218e+02, ...,\n",
       "         -4.76614735e+02, -2.51063922e+02,  6.00157924e-03],\n",
       "        [-2.49981174e-03, -3.56197272e+00, -6.79217030e+00, ...,\n",
       "          7.76234137e+00,  4.11734218e+00,  2.48519773e-03],\n",
       "        [-5.67905835e-02,  2.96345063e+02,  5.62454723e+02, ...,\n",
       "         -5.59251898e+02, -2.94610199e+02,  2.74868793e-03],\n",
       "        [-2.76519007e-03, -5.15051674e+00, -9.98940590e+00, ...,\n",
       "          7.06026942e+00,  3.75433616e+00, -1.77371030e-03]],\n",
       "\n",
       "       [[-2.56480508e-02,  1.21275901e+02,  2.30291588e+02, ...,\n",
       "         -2.28100220e+02, -1.20201494e+02, -5.11993661e-04],\n",
       "        [ 5.85416978e-02, -7.47123855e+01, -1.41853729e+02, ...,\n",
       "          1.64580845e+02,  8.66627360e+01, -2.17699804e-03],\n",
       "        [-7.78334891e-02,  2.37957141e+02,  4.51787096e+02, ...,\n",
       "         -4.66265143e+02, -2.45723801e+02, -6.38333842e-04],\n",
       "        [-3.95251326e-04, -3.97983384e+00, -7.62268918e+00, ...,\n",
       "          6.94339496e+00,  3.65994759e+00,  1.17476649e-03],\n",
       "        [-5.66651653e-02,  2.93350185e+02,  5.56894035e+02, ...,\n",
       "         -5.49236788e+02, -2.89432705e+02, -2.15865533e-04],\n",
       "        [-9.03251810e-04, -3.51220912e+00, -6.61798421e+00, ...,\n",
       "          9.82860635e+00,  5.12891206e+00,  7.00677213e-04]],\n",
       "\n",
       "       ...,\n",
       "\n",
       "       [[-3.52561328e-02,  1.16497020e+02,  2.21091506e+02, ...,\n",
       "         -1.50588588e+02, -7.93042389e+01, -5.59377103e-03],\n",
       "        [ 6.00122108e-02, -6.59078564e+01, -1.25218731e+02, ...,\n",
       "          9.49183430e+00,  5.06665839e+00, -9.31504364e-05],\n",
       "        [-9.19762669e-02,  2.26341059e+02,  4.29654230e+02, ...,\n",
       "         -2.53565787e+02, -1.33588303e+02, -8.90073993e-03],\n",
       "        [-1.86183688e-03, -3.76781016e+00, -7.24194590e+00, ...,\n",
       "          9.63320049e+00,  5.11896643e+00, -4.63661606e-03],\n",
       "        [-6.67765286e-02,  2.84351498e+02,  5.39803292e+02, ...,\n",
       "         -3.63659029e+02, -1.91628237e+02, -5.68093513e-03],\n",
       "        [-1.28735307e-03, -5.50511261e+00, -1.05176141e+01, ...,\n",
       "          1.07714087e+01,  5.68672263e+00, -9.45981798e-03]],\n",
       "\n",
       "       [[-3.49724264e-02,  1.15212787e+02,  2.18695595e+02, ...,\n",
       "         -1.45758384e+02, -7.67746221e+01, -1.09890704e-03],\n",
       "        [ 6.11707167e-02, -6.65775017e+01, -1.26447184e+02, ...,\n",
       "          7.92503841e+00,  4.22117594e+00,  6.01868912e-03],\n",
       "        [-9.52375032e-02,  2.23190326e+02,  4.23732432e+02, ...,\n",
       "         -2.46191114e+02, -1.29728075e+02, -8.53659564e-04],\n",
       "        [-3.71878388e-04, -7.18092058e+00, -1.36575057e+01, ...,\n",
       "          1.14992964e+01,  6.04216630e+00, -2.23196270e-03],\n",
       "        [-6.85564776e-02,  2.83382957e+02,  5.38000007e+02, ...,\n",
       "         -3.55517720e+02, -1.87312657e+02, -2.02651707e-04],\n",
       "        [-1.35607463e-03, -8.72149834e+00, -1.65499218e+01, ...,\n",
       "          1.19802287e+01,  6.29624801e+00, -4.29036360e-03]],\n",
       "\n",
       "       [[ 3.02596592e-02,  1.10158443e+02,  2.09060768e+02, ...,\n",
       "         -2.66674052e+02, -1.40480706e+02,  2.15661475e-04],\n",
       "        [-9.48155772e-03, -1.67433688e+02, -3.17773419e+02, ...,\n",
       "          3.22162150e+02,  1.69759425e+02,  6.82420110e-03],\n",
       "        [ 4.81532848e-02,  2.70367875e+02,  5.13153265e+02, ...,\n",
       "         -6.16666396e+02, -3.24900712e+02,  1.21482881e-03],\n",
       "        [-1.67469441e-03,  1.87473508e-01,  3.64514418e-01, ...,\n",
       "          2.59883914e+00,  1.33958703e+00, -1.49398597e-03],\n",
       "        [ 8.44939572e-02,  2.45584498e+02,  4.66082454e+02, ...,\n",
       "         -6.12197802e+02, -3.22523182e+02,  1.32301601e-03],\n",
       "        [-3.17785270e-03,  1.40165879e+00,  2.69260999e+00, ...,\n",
       "          5.73498179e-02,  9.96712985e-03, -2.66685291e-03]]])"
      ]
     },
     "execution_count": 1755,
     "metadata": {},
     "output_type": "execute_result"
    }
   ],
   "source": [
    "print(mne_epochs.get_data().shape)\n",
    "mne_epochs.get_data()"
   ]
  },
  {
   "cell_type": "code",
   "execution_count": 1756,
   "metadata": {},
   "outputs": [
    {
     "data": {
      "text/html": [
       "<div>\n",
       "<style scoped>\n",
       "    .dataframe tbody tr th:only-of-type {\n",
       "        vertical-align: middle;\n",
       "    }\n",
       "\n",
       "    .dataframe tbody tr th {\n",
       "        vertical-align: top;\n",
       "    }\n",
       "\n",
       "    .dataframe thead th {\n",
       "        text-align: right;\n",
       "    }\n",
       "</style>\n",
       "<table border=\"1\" class=\"dataframe\">\n",
       "  <thead>\n",
       "    <tr style=\"text-align: right;\">\n",
       "      <th></th>\n",
       "      <th>time</th>\n",
       "      <th>condition</th>\n",
       "      <th>epoch</th>\n",
       "      <th>CH1</th>\n",
       "      <th>CH2</th>\n",
       "      <th>CH3</th>\n",
       "      <th>CH4</th>\n",
       "      <th>CH5</th>\n",
       "      <th>CH6</th>\n",
       "    </tr>\n",
       "  </thead>\n",
       "  <tbody>\n",
       "    <tr>\n",
       "      <th>0</th>\n",
       "      <td>0.000</td>\n",
       "      <td>break</td>\n",
       "      <td>0</td>\n",
       "      <td>-2.735639e+04</td>\n",
       "      <td>5.867871e+04</td>\n",
       "      <td>-7.074007e+04</td>\n",
       "      <td>-1.027549e+03</td>\n",
       "      <td>-5.454577e+04</td>\n",
       "      <td>-1.264441e+03</td>\n",
       "    </tr>\n",
       "    <tr>\n",
       "      <th>1</th>\n",
       "      <td>0.004</td>\n",
       "      <td>break</td>\n",
       "      <td>0</td>\n",
       "      <td>1.222935e+08</td>\n",
       "      <td>-7.364860e+07</td>\n",
       "      <td>2.375691e+08</td>\n",
       "      <td>-4.102941e+06</td>\n",
       "      <td>2.947658e+08</td>\n",
       "      <td>-7.074680e+06</td>\n",
       "    </tr>\n",
       "    <tr>\n",
       "      <th>2</th>\n",
       "      <td>0.008</td>\n",
       "      <td>break</td>\n",
       "      <td>0</td>\n",
       "      <td>2.322616e+08</td>\n",
       "      <td>-1.397665e+08</td>\n",
       "      <td>4.511522e+08</td>\n",
       "      <td>-7.678917e+06</td>\n",
       "      <td>5.596436e+08</td>\n",
       "      <td>-1.319283e+07</td>\n",
       "    </tr>\n",
       "    <tr>\n",
       "      <th>3</th>\n",
       "      <td>0.012</td>\n",
       "      <td>break</td>\n",
       "      <td>0</td>\n",
       "      <td>3.191750e+08</td>\n",
       "      <td>-1.917224e+08</td>\n",
       "      <td>6.198380e+08</td>\n",
       "      <td>-1.028106e+07</td>\n",
       "      <td>7.686437e+08</td>\n",
       "      <td>-1.754479e+07</td>\n",
       "    </tr>\n",
       "    <tr>\n",
       "      <th>4</th>\n",
       "      <td>0.016</td>\n",
       "      <td>break</td>\n",
       "      <td>0</td>\n",
       "      <td>3.753716e+08</td>\n",
       "      <td>-2.248183e+08</td>\n",
       "      <td>7.287084e+08</td>\n",
       "      <td>-1.160466e+07</td>\n",
       "      <td>9.032100e+08</td>\n",
       "      <td>-1.958484e+07</td>\n",
       "    </tr>\n",
       "    <tr>\n",
       "      <th>...</th>\n",
       "      <td>...</td>\n",
       "      <td>...</td>\n",
       "      <td>...</td>\n",
       "      <td>...</td>\n",
       "      <td>...</td>\n",
       "      <td>...</td>\n",
       "      <td>...</td>\n",
       "      <td>...</td>\n",
       "      <td>...</td>\n",
       "    </tr>\n",
       "    <tr>\n",
       "      <th>120027</th>\n",
       "      <td>14.984</td>\n",
       "      <td>baseline</td>\n",
       "      <td>32</td>\n",
       "      <td>-4.302434e+08</td>\n",
       "      <td>5.190942e+08</td>\n",
       "      <td>-9.942024e+08</td>\n",
       "      <td>4.560202e+06</td>\n",
       "      <td>-9.873039e+08</td>\n",
       "      <td>3.431214e+05</td>\n",
       "    </tr>\n",
       "    <tr>\n",
       "      <th>120028</th>\n",
       "      <td>14.988</td>\n",
       "      <td>baseline</td>\n",
       "      <td>32</td>\n",
       "      <td>-3.662090e+08</td>\n",
       "      <td>4.421892e+08</td>\n",
       "      <td>-8.466036e+08</td>\n",
       "      <td>3.696939e+06</td>\n",
       "      <td>-8.405735e+08</td>\n",
       "      <td>1.652239e+05</td>\n",
       "    </tr>\n",
       "    <tr>\n",
       "      <th>120029</th>\n",
       "      <td>14.992</td>\n",
       "      <td>baseline</td>\n",
       "      <td>32</td>\n",
       "      <td>-2.666741e+08</td>\n",
       "      <td>3.221622e+08</td>\n",
       "      <td>-6.166664e+08</td>\n",
       "      <td>2.598839e+06</td>\n",
       "      <td>-6.121978e+08</td>\n",
       "      <td>5.734982e+04</td>\n",
       "    </tr>\n",
       "    <tr>\n",
       "      <th>120030</th>\n",
       "      <td>14.996</td>\n",
       "      <td>baseline</td>\n",
       "      <td>32</td>\n",
       "      <td>-1.404807e+08</td>\n",
       "      <td>1.697594e+08</td>\n",
       "      <td>-3.249007e+08</td>\n",
       "      <td>1.339587e+06</td>\n",
       "      <td>-3.225232e+08</td>\n",
       "      <td>9.967130e+03</td>\n",
       "    </tr>\n",
       "    <tr>\n",
       "      <th>120031</th>\n",
       "      <td>15.000</td>\n",
       "      <td>baseline</td>\n",
       "      <td>32</td>\n",
       "      <td>2.156615e+02</td>\n",
       "      <td>6.824201e+03</td>\n",
       "      <td>1.214829e+03</td>\n",
       "      <td>-1.493986e+03</td>\n",
       "      <td>1.323016e+03</td>\n",
       "      <td>-2.666853e+03</td>\n",
       "    </tr>\n",
       "  </tbody>\n",
       "</table>\n",
       "<p>120032 rows × 9 columns</p>\n",
       "</div>"
      ],
      "text/plain": [
       "          time condition  epoch           CH1           CH2           CH3  \\\n",
       "0        0.000     break      0 -2.735639e+04  5.867871e+04 -7.074007e+04   \n",
       "1        0.004     break      0  1.222935e+08 -7.364860e+07  2.375691e+08   \n",
       "2        0.008     break      0  2.322616e+08 -1.397665e+08  4.511522e+08   \n",
       "3        0.012     break      0  3.191750e+08 -1.917224e+08  6.198380e+08   \n",
       "4        0.016     break      0  3.753716e+08 -2.248183e+08  7.287084e+08   \n",
       "...        ...       ...    ...           ...           ...           ...   \n",
       "120027  14.984  baseline     32 -4.302434e+08  5.190942e+08 -9.942024e+08   \n",
       "120028  14.988  baseline     32 -3.662090e+08  4.421892e+08 -8.466036e+08   \n",
       "120029  14.992  baseline     32 -2.666741e+08  3.221622e+08 -6.166664e+08   \n",
       "120030  14.996  baseline     32 -1.404807e+08  1.697594e+08 -3.249007e+08   \n",
       "120031  15.000  baseline     32  2.156615e+02  6.824201e+03  1.214829e+03   \n",
       "\n",
       "                 CH4           CH5           CH6  \n",
       "0      -1.027549e+03 -5.454577e+04 -1.264441e+03  \n",
       "1      -4.102941e+06  2.947658e+08 -7.074680e+06  \n",
       "2      -7.678917e+06  5.596436e+08 -1.319283e+07  \n",
       "3      -1.028106e+07  7.686437e+08 -1.754479e+07  \n",
       "4      -1.160466e+07  9.032100e+08 -1.958484e+07  \n",
       "...              ...           ...           ...  \n",
       "120027  4.560202e+06 -9.873039e+08  3.431214e+05  \n",
       "120028  3.696939e+06 -8.405735e+08  1.652239e+05  \n",
       "120029  2.598839e+06 -6.121978e+08  5.734982e+04  \n",
       "120030  1.339587e+06 -3.225232e+08  9.967130e+03  \n",
       "120031 -1.493986e+03  1.323016e+03 -2.666853e+03  \n",
       "\n",
       "[120032 rows x 9 columns]"
      ]
     },
     "execution_count": 1756,
     "metadata": {},
     "output_type": "execute_result"
    }
   ],
   "source": [
    "mne_df = mne_epochs.to_data_frame()\n",
    "mne_df\n"
   ]
  },
  {
   "cell_type": "code",
   "execution_count": 1757,
   "metadata": {},
   "outputs": [
    {
     "data": {
      "text/html": [
       "<div>\n",
       "<style scoped>\n",
       "    .dataframe tbody tr th:only-of-type {\n",
       "        vertical-align: middle;\n",
       "    }\n",
       "\n",
       "    .dataframe tbody tr th {\n",
       "        vertical-align: top;\n",
       "    }\n",
       "\n",
       "    .dataframe thead th {\n",
       "        text-align: right;\n",
       "    }\n",
       "</style>\n",
       "<table border=\"1\" class=\"dataframe\">\n",
       "  <thead>\n",
       "    <tr style=\"text-align: right;\">\n",
       "      <th></th>\n",
       "      <th>time</th>\n",
       "      <th>condition</th>\n",
       "      <th>epoch</th>\n",
       "      <th>CH1</th>\n",
       "      <th>CH2</th>\n",
       "      <th>CH3</th>\n",
       "      <th>CH4</th>\n",
       "      <th>CH5</th>\n",
       "      <th>CH6</th>\n",
       "    </tr>\n",
       "  </thead>\n",
       "  <tbody>\n",
       "    <tr>\n",
       "      <th>0</th>\n",
       "      <td>0.000</td>\n",
       "      <td>break</td>\n",
       "      <td>0</td>\n",
       "      <td>-2.735639e+04</td>\n",
       "      <td>5.867871e+04</td>\n",
       "      <td>-7.074007e+04</td>\n",
       "      <td>-1.027549e+03</td>\n",
       "      <td>-5.454577e+04</td>\n",
       "      <td>-1.264441e+03</td>\n",
       "    </tr>\n",
       "    <tr>\n",
       "      <th>1</th>\n",
       "      <td>0.004</td>\n",
       "      <td>break</td>\n",
       "      <td>0</td>\n",
       "      <td>1.222935e+08</td>\n",
       "      <td>-7.364860e+07</td>\n",
       "      <td>2.375691e+08</td>\n",
       "      <td>-4.102941e+06</td>\n",
       "      <td>2.947658e+08</td>\n",
       "      <td>-7.074680e+06</td>\n",
       "    </tr>\n",
       "    <tr>\n",
       "      <th>2</th>\n",
       "      <td>0.008</td>\n",
       "      <td>break</td>\n",
       "      <td>0</td>\n",
       "      <td>2.322616e+08</td>\n",
       "      <td>-1.397665e+08</td>\n",
       "      <td>4.511522e+08</td>\n",
       "      <td>-7.678917e+06</td>\n",
       "      <td>5.596436e+08</td>\n",
       "      <td>-1.319283e+07</td>\n",
       "    </tr>\n",
       "    <tr>\n",
       "      <th>3</th>\n",
       "      <td>0.012</td>\n",
       "      <td>break</td>\n",
       "      <td>0</td>\n",
       "      <td>3.191750e+08</td>\n",
       "      <td>-1.917224e+08</td>\n",
       "      <td>6.198380e+08</td>\n",
       "      <td>-1.028106e+07</td>\n",
       "      <td>7.686437e+08</td>\n",
       "      <td>-1.754479e+07</td>\n",
       "    </tr>\n",
       "    <tr>\n",
       "      <th>4</th>\n",
       "      <td>0.016</td>\n",
       "      <td>break</td>\n",
       "      <td>0</td>\n",
       "      <td>3.753716e+08</td>\n",
       "      <td>-2.248183e+08</td>\n",
       "      <td>7.287084e+08</td>\n",
       "      <td>-1.160466e+07</td>\n",
       "      <td>9.032100e+08</td>\n",
       "      <td>-1.958484e+07</td>\n",
       "    </tr>\n",
       "    <tr>\n",
       "      <th>...</th>\n",
       "      <td>...</td>\n",
       "      <td>...</td>\n",
       "      <td>...</td>\n",
       "      <td>...</td>\n",
       "      <td>...</td>\n",
       "      <td>...</td>\n",
       "      <td>...</td>\n",
       "      <td>...</td>\n",
       "      <td>...</td>\n",
       "    </tr>\n",
       "    <tr>\n",
       "      <th>120027</th>\n",
       "      <td>14.984</td>\n",
       "      <td>baseline</td>\n",
       "      <td>32</td>\n",
       "      <td>-4.302434e+08</td>\n",
       "      <td>5.190942e+08</td>\n",
       "      <td>-9.942024e+08</td>\n",
       "      <td>4.560202e+06</td>\n",
       "      <td>-9.873039e+08</td>\n",
       "      <td>3.431214e+05</td>\n",
       "    </tr>\n",
       "    <tr>\n",
       "      <th>120028</th>\n",
       "      <td>14.988</td>\n",
       "      <td>baseline</td>\n",
       "      <td>32</td>\n",
       "      <td>-3.662090e+08</td>\n",
       "      <td>4.421892e+08</td>\n",
       "      <td>-8.466036e+08</td>\n",
       "      <td>3.696939e+06</td>\n",
       "      <td>-8.405735e+08</td>\n",
       "      <td>1.652239e+05</td>\n",
       "    </tr>\n",
       "    <tr>\n",
       "      <th>120029</th>\n",
       "      <td>14.992</td>\n",
       "      <td>baseline</td>\n",
       "      <td>32</td>\n",
       "      <td>-2.666741e+08</td>\n",
       "      <td>3.221622e+08</td>\n",
       "      <td>-6.166664e+08</td>\n",
       "      <td>2.598839e+06</td>\n",
       "      <td>-6.121978e+08</td>\n",
       "      <td>5.734982e+04</td>\n",
       "    </tr>\n",
       "    <tr>\n",
       "      <th>120030</th>\n",
       "      <td>14.996</td>\n",
       "      <td>baseline</td>\n",
       "      <td>32</td>\n",
       "      <td>-1.404807e+08</td>\n",
       "      <td>1.697594e+08</td>\n",
       "      <td>-3.249007e+08</td>\n",
       "      <td>1.339587e+06</td>\n",
       "      <td>-3.225232e+08</td>\n",
       "      <td>9.967130e+03</td>\n",
       "    </tr>\n",
       "    <tr>\n",
       "      <th>120031</th>\n",
       "      <td>15.000</td>\n",
       "      <td>baseline</td>\n",
       "      <td>32</td>\n",
       "      <td>2.156615e+02</td>\n",
       "      <td>6.824201e+03</td>\n",
       "      <td>1.214829e+03</td>\n",
       "      <td>-1.493986e+03</td>\n",
       "      <td>1.323016e+03</td>\n",
       "      <td>-2.666853e+03</td>\n",
       "    </tr>\n",
       "  </tbody>\n",
       "</table>\n",
       "<p>120032 rows × 9 columns</p>\n",
       "</div>"
      ],
      "text/plain": [
       "          time condition  epoch           CH1           CH2           CH3  \\\n",
       "0        0.000     break      0 -2.735639e+04  5.867871e+04 -7.074007e+04   \n",
       "1        0.004     break      0  1.222935e+08 -7.364860e+07  2.375691e+08   \n",
       "2        0.008     break      0  2.322616e+08 -1.397665e+08  4.511522e+08   \n",
       "3        0.012     break      0  3.191750e+08 -1.917224e+08  6.198380e+08   \n",
       "4        0.016     break      0  3.753716e+08 -2.248183e+08  7.287084e+08   \n",
       "...        ...       ...    ...           ...           ...           ...   \n",
       "120027  14.984  baseline     32 -4.302434e+08  5.190942e+08 -9.942024e+08   \n",
       "120028  14.988  baseline     32 -3.662090e+08  4.421892e+08 -8.466036e+08   \n",
       "120029  14.992  baseline     32 -2.666741e+08  3.221622e+08 -6.166664e+08   \n",
       "120030  14.996  baseline     32 -1.404807e+08  1.697594e+08 -3.249007e+08   \n",
       "120031  15.000  baseline     32  2.156615e+02  6.824201e+03  1.214829e+03   \n",
       "\n",
       "                 CH4           CH5           CH6  \n",
       "0      -1.027549e+03 -5.454577e+04 -1.264441e+03  \n",
       "1      -4.102941e+06  2.947658e+08 -7.074680e+06  \n",
       "2      -7.678917e+06  5.596436e+08 -1.319283e+07  \n",
       "3      -1.028106e+07  7.686437e+08 -1.754479e+07  \n",
       "4      -1.160466e+07  9.032100e+08 -1.958484e+07  \n",
       "...              ...           ...           ...  \n",
       "120027  4.560202e+06 -9.873039e+08  3.431214e+05  \n",
       "120028  3.696939e+06 -8.405735e+08  1.652239e+05  \n",
       "120029  2.598839e+06 -6.121978e+08  5.734982e+04  \n",
       "120030  1.339587e+06 -3.225232e+08  9.967130e+03  \n",
       "120031 -1.493986e+03  1.323016e+03 -2.666853e+03  \n",
       "\n",
       "[120032 rows x 9 columns]"
      ]
     },
     "execution_count": 1757,
     "metadata": {},
     "output_type": "execute_result"
    }
   ],
   "source": [
    "mne_df"
   ]
  },
  {
   "cell_type": "code",
   "execution_count": 1758,
   "metadata": {},
   "outputs": [],
   "source": [
    "import tensorflow as tf\n",
    "from tensorflow.keras import Sequential\n",
    "from tensorflow.keras.layers import LSTM, Conv1D, Dense\n",
    "from tensorflow.keras.optimizers import Adam\n",
    "from tensorflow.keras.backend import clear_session\n",
    "from tensorflow.keras.activations import tanh, elu, relu\n",
    "from tensorflow.keras.models import load_model\n",
    "import tensorflow.keras.backend as K\n",
    "from tensorflow.keras.utils import Sequence\n",
    "\n",
    "from tensorflow.keras.callbacks import ModelCheckpoint\n",
    "from tensorflow.keras.callbacks import CSVLogger\n",
    "\n",
    "\n",
    "import os\n",
    "from scipy import signal\n",
    "from scipy.io import wavfile\n",
    "import numpy as np\n",
    "import matplotlib.pyplot as plt\n",
    "import math\n",
    "import h5py\n",
    "\n",
    "import os"
   ]
  },
  {
   "cell_type": "code",
   "execution_count": 1759,
   "metadata": {},
   "outputs": [
    {
     "data": {
      "text/html": [
       "<div>\n",
       "<style scoped>\n",
       "    .dataframe tbody tr th:only-of-type {\n",
       "        vertical-align: middle;\n",
       "    }\n",
       "\n",
       "    .dataframe tbody tr th {\n",
       "        vertical-align: top;\n",
       "    }\n",
       "\n",
       "    .dataframe thead th {\n",
       "        text-align: right;\n",
       "    }\n",
       "</style>\n",
       "<table border=\"1\" class=\"dataframe\">\n",
       "  <thead>\n",
       "    <tr style=\"text-align: right;\">\n",
       "      <th></th>\n",
       "      <th>time</th>\n",
       "      <th>epoch</th>\n",
       "      <th>CH1</th>\n",
       "      <th>CH2</th>\n",
       "      <th>CH3</th>\n",
       "      <th>CH4</th>\n",
       "      <th>CH5</th>\n",
       "      <th>CH6</th>\n",
       "    </tr>\n",
       "  </thead>\n",
       "  <tbody>\n",
       "    <tr>\n",
       "      <th>count</th>\n",
       "      <td>120032.0000</td>\n",
       "      <td>120032.000000</td>\n",
       "      <td>1.200320e+05</td>\n",
       "      <td>1.200320e+05</td>\n",
       "      <td>1.200320e+05</td>\n",
       "      <td>1.200320e+05</td>\n",
       "      <td>1.200320e+05</td>\n",
       "      <td>1.200320e+05</td>\n",
       "    </tr>\n",
       "    <tr>\n",
       "      <th>mean</th>\n",
       "      <td>7.5000</td>\n",
       "      <td>16.468750</td>\n",
       "      <td>6.742164e+04</td>\n",
       "      <td>-8.727277e+04</td>\n",
       "      <td>1.431523e+05</td>\n",
       "      <td>-2.704387e+02</td>\n",
       "      <td>1.633383e+05</td>\n",
       "      <td>9.234582e+02</td>\n",
       "    </tr>\n",
       "    <tr>\n",
       "      <th>std</th>\n",
       "      <td>4.3313</td>\n",
       "      <td>9.287074</td>\n",
       "      <td>2.171636e+07</td>\n",
       "      <td>1.355569e+07</td>\n",
       "      <td>4.231696e+07</td>\n",
       "      <td>2.611263e+06</td>\n",
       "      <td>5.179785e+07</td>\n",
       "      <td>4.239340e+06</td>\n",
       "    </tr>\n",
       "    <tr>\n",
       "      <th>min</th>\n",
       "      <td>0.0000</td>\n",
       "      <td>0.000000</td>\n",
       "      <td>-4.545204e+08</td>\n",
       "      <td>-5.406133e+08</td>\n",
       "      <td>-1.049586e+09</td>\n",
       "      <td>-2.357133e+07</td>\n",
       "      <td>-1.042575e+09</td>\n",
       "      <td>-3.123770e+07</td>\n",
       "    </tr>\n",
       "    <tr>\n",
       "      <th>25%</th>\n",
       "      <td>3.7480</td>\n",
       "      <td>8.750000</td>\n",
       "      <td>-2.800812e+06</td>\n",
       "      <td>-2.263920e+06</td>\n",
       "      <td>-3.107147e+06</td>\n",
       "      <td>-1.578451e+06</td>\n",
       "      <td>-2.725552e+06</td>\n",
       "      <td>-2.154336e+06</td>\n",
       "    </tr>\n",
       "    <tr>\n",
       "      <th>50%</th>\n",
       "      <td>7.5000</td>\n",
       "      <td>16.500000</td>\n",
       "      <td>5.570843e+04</td>\n",
       "      <td>5.796965e+04</td>\n",
       "      <td>-2.488122e+04</td>\n",
       "      <td>-3.396610e+03</td>\n",
       "      <td>3.845157e+04</td>\n",
       "      <td>1.017535e+05</td>\n",
       "    </tr>\n",
       "    <tr>\n",
       "      <th>75%</th>\n",
       "      <td>11.2520</td>\n",
       "      <td>24.250000</td>\n",
       "      <td>2.840691e+06</td>\n",
       "      <td>2.320918e+06</td>\n",
       "      <td>3.315863e+06</td>\n",
       "      <td>1.663580e+06</td>\n",
       "      <td>2.876537e+06</td>\n",
       "      <td>2.229863e+06</td>\n",
       "    </tr>\n",
       "    <tr>\n",
       "      <th>max</th>\n",
       "      <td>15.0000</td>\n",
       "      <td>32.000000</td>\n",
       "      <td>4.011099e+08</td>\n",
       "      <td>5.476939e+08</td>\n",
       "      <td>8.739678e+08</td>\n",
       "      <td>1.998077e+07</td>\n",
       "      <td>9.667115e+08</td>\n",
       "      <td>3.446206e+07</td>\n",
       "    </tr>\n",
       "  </tbody>\n",
       "</table>\n",
       "</div>"
      ],
      "text/plain": [
       "              time          epoch           CH1           CH2           CH3  \\\n",
       "count  120032.0000  120032.000000  1.200320e+05  1.200320e+05  1.200320e+05   \n",
       "mean        7.5000      16.468750  6.742164e+04 -8.727277e+04  1.431523e+05   \n",
       "std         4.3313       9.287074  2.171636e+07  1.355569e+07  4.231696e+07   \n",
       "min         0.0000       0.000000 -4.545204e+08 -5.406133e+08 -1.049586e+09   \n",
       "25%         3.7480       8.750000 -2.800812e+06 -2.263920e+06 -3.107147e+06   \n",
       "50%         7.5000      16.500000  5.570843e+04  5.796965e+04 -2.488122e+04   \n",
       "75%        11.2520      24.250000  2.840691e+06  2.320918e+06  3.315863e+06   \n",
       "max        15.0000      32.000000  4.011099e+08  5.476939e+08  8.739678e+08   \n",
       "\n",
       "                CH4           CH5           CH6  \n",
       "count  1.200320e+05  1.200320e+05  1.200320e+05  \n",
       "mean  -2.704387e+02  1.633383e+05  9.234582e+02  \n",
       "std    2.611263e+06  5.179785e+07  4.239340e+06  \n",
       "min   -2.357133e+07 -1.042575e+09 -3.123770e+07  \n",
       "25%   -1.578451e+06 -2.725552e+06 -2.154336e+06  \n",
       "50%   -3.396610e+03  3.845157e+04  1.017535e+05  \n",
       "75%    1.663580e+06  2.876537e+06  2.229863e+06  \n",
       "max    1.998077e+07  9.667115e+08  3.446206e+07  "
      ]
     },
     "execution_count": 1759,
     "metadata": {},
     "output_type": "execute_result"
    }
   ],
   "source": [
    "mne_df.describe()"
   ]
  },
  {
   "cell_type": "code",
   "execution_count": 1760,
   "metadata": {},
   "outputs": [],
   "source": [
    "from sklearn.preprocessing import StandardScaler\n",
    "# Instantiate the scaler\n",
    "scaler = StandardScaler()\n",
    "\n",
    "# Fit and transform the data\n",
    "channels = ['CH1', 'CH2', 'CH3', 'CH4', 'CH5', 'CH6']\n",
    "mne_df[channels] = scaler.fit_transform(mne_df[channels])"
   ]
  },
  {
   "cell_type": "code",
   "execution_count": 1761,
   "metadata": {},
   "outputs": [],
   "source": [
    "i+=1\n",
    "name = f'model{i}'\n",
    "\n",
    "os.makedirs('models/'+ name)\n",
    "with open('models/'+ name +'/training_log.csv', 'w') as file:\n",
    "    pass"
   ]
  },
  {
   "cell_type": "code",
   "execution_count": 1762,
   "metadata": {},
   "outputs": [],
   "source": [
    "batch_size = 64\n",
    "test_size = 0.2\n",
    "epochs = 64\n",
    "input_size = 250\n",
    "\n",
    "learning_rate = 0.001 \n",
    "conv1d_strides = 3 #4\n",
    "conv1d_filters = 36 #32\n",
    "hidden_units = 32"
   ]
  },
  {
   "cell_type": "code",
   "execution_count": 1763,
   "metadata": {},
   "outputs": [
    {
     "name": "stdout",
     "output_type": "stream",
     "text": [
      "Model: \"sequential\"\n",
      "_________________________________________________________________\n",
      " Layer (type)                Output Shape              Param #   \n",
      "=================================================================\n",
      " conv1d (Conv1D)             (None, 84, 36)            2628      \n",
      "                                                                 \n",
      " conv1d_1 (Conv1D)           (None, 28, 36)            15588     \n",
      "                                                                 \n",
      " lstm (LSTM)                 (None, 32)                8832      \n",
      "                                                                 \n",
      " dense (Dense)               (None, 5)                 165       \n",
      "                                                                 \n",
      "=================================================================\n",
      "Total params: 27,213\n",
      "Trainable params: 27,213\n",
      "Non-trainable params: 0\n",
      "_________________________________________________________________\n",
      "None\n"
     ]
    }
   ],
   "source": [
    "from keras.models import Model\n",
    "from keras.layers import Input, Conv1D, LSTM, Dense, Concatenate, Reshape\n",
    "from keras.layers import Conv1D, LSTM, Dropout\n",
    "from keras.regularizers import l2\n",
    "\n",
    "clear_session()\n",
    "model = Sequential()\n",
    "model.add(Conv1D(conv1d_filters, 12, strides=conv1d_strides, activation='relu', padding='same', input_shape=(input_size, 6)))\n",
    "model.add(Conv1D(conv1d_filters, 12, strides=conv1d_strides, activation='relu', padding='same'))\n",
    "model.add(LSTM(hidden_units, dropout=0.2, recurrent_dropout=0.0, kernel_regularizer=l2(0.001)))\n",
    "model.add(Dense(5, activation='softmax', kernel_regularizer=l2(0.001)))\n",
    "\n",
    "model.compile(optimizer=Adam(learning_rate=learning_rate), loss='categorical_crossentropy', metrics=['accuracy'])\n",
    "\n",
    "# Print the model summary\n",
    "print(model.summary())"
   ]
  },
  {
   "cell_type": "code",
   "execution_count": 1764,
   "metadata": {},
   "outputs": [
    {
     "data": {
      "text/plain": [
       "array(['break', 'forward', 'left', 'right', 'backward', 'baseline',\n",
       "       'reset'], dtype=object)"
      ]
     },
     "execution_count": 1764,
     "metadata": {},
     "output_type": "execute_result"
    }
   ],
   "source": [
    "mne_df['condition'].unique()"
   ]
  },
  {
   "cell_type": "code",
   "execution_count": 1765,
   "metadata": {},
   "outputs": [],
   "source": [
    "mne_df = mne_df[mne_df.condition != 'reset']\n",
    "mne_df = mne_df[mne_df.condition != 'break']\n"
   ]
  },
  {
   "cell_type": "code",
   "execution_count": 1766,
   "metadata": {},
   "outputs": [],
   "source": [
    "mne_df  = mne_df.replace('baseline', 'Idle')\n",
    "mne_df  = mne_df.replace('break', 'Idle')"
   ]
  },
  {
   "cell_type": "code",
   "execution_count": 1767,
   "metadata": {},
   "outputs": [],
   "source": [
    "# Prepare the input and output\n",
    "X = mne_df[['CH1', 'CH2', 'CH3', 'CH4', 'CH5', 'CH6']].values\n",
    "y = mne_df['condition'].values"
   ]
  },
  {
   "cell_type": "code",
   "execution_count": 1768,
   "metadata": {},
   "outputs": [],
   "source": [
    "from sklearn.preprocessing import LabelEncoder\n",
    "from keras.utils import to_categorical"
   ]
  },
  {
   "cell_type": "code",
   "execution_count": 1769,
   "metadata": {},
   "outputs": [],
   "source": [
    "from scipy.signal import welch\n",
    "def compute_psd(chunk):\n",
    "    psd_features = []\n",
    "    for i in range(chunk.shape[1]):  # Iterate over each feature (column)\n",
    "        f, Pxx = welch(chunk[:, i], fs=250, nperseg=chunk.shape[0])\n",
    "        psd_features.append(Pxx)\n",
    "    return np.array(psd_features).flatten()  # Flatten the PSD features"
   ]
  },
  {
   "cell_type": "code",
   "execution_count": 1770,
   "metadata": {},
   "outputs": [],
   "source": [
    "# Label encoding for the condition column\n",
    "label_encoder = LabelEncoder()\n",
    "y_encoded = label_encoder.fit_transform(y)\n",
    "\n",
    "# One-hot encode the labels\n",
    "y_categorical = to_categorical(y_encoded, num_classes=5)\n",
    "\n",
    "y_ordered = y_categorical[input_size-1:] \n",
    "\n",
    "indices = np.arange(input_size) + np.arange(len(X) - input_size + 1)[:, np.newaxis]\n",
    "X_ordered = X[indices]\n",
    "\n",
    "X_with_psd = np.array([np.concatenate((chunk.flatten(), compute_psd(chunk))) for chunk in X_ordered])\n",
    "\n",
    "shuffled_indices = np.random.permutation(len(X_with_psd)) \n",
    "X_random = X_ordered[shuffled_indices]\n",
    "y_random = y_ordered[shuffled_indices]"
   ]
  },
  {
   "cell_type": "code",
   "execution_count": 1771,
   "metadata": {},
   "outputs": [
    {
     "name": "stdout",
     "output_type": "stream",
     "text": [
      "WARNING:tensorflow:`period` argument is deprecated. Please use `save_freq` to specify the frequency in number of batches seen.\n"
     ]
    }
   ],
   "source": [
    "checkpoint = ModelCheckpoint(\n",
    "                            filepath='models/'+name+'/checkpoint-epoch{epoch:02d}-loss{val_loss:.4f}.h5',\n",
    "                            monitor='val_loss',\n",
    "                            verbose=16,\n",
    "                            save_best_only=False,\n",
    "                            save_weights_only=False,\n",
    "                            mode='auto',\n",
    "                            save_freq='epoch',\n",
    "                            period=16\n",
    "                            )\n",
    "\n",
    "csv_logger = CSVLogger('models/'+name+'/training_log.csv', append=True)"
   ]
  },
  {
   "cell_type": "code",
   "execution_count": 1772,
   "metadata": {},
   "outputs": [
    {
     "name": "stdout",
     "output_type": "stream",
     "text": [
      "Epoch 1/64\n",
      "1170/1170 [==============================] - 14s 11ms/step - loss: 1.6176 - accuracy: 0.2042 - val_loss: 1.6126 - val_accuracy: 0.1920\n",
      "Epoch 2/64\n",
      "1170/1170 [==============================] - 12s 10ms/step - loss: 1.6069 - accuracy: 0.2046 - val_loss: 1.6053 - val_accuracy: 0.1989\n",
      "Epoch 3/64\n",
      "1170/1170 [==============================] - 12s 10ms/step - loss: 1.6035 - accuracy: 0.2063 - val_loss: 1.6042 - val_accuracy: 0.2037\n",
      "Epoch 4/64\n",
      "1170/1170 [==============================] - 12s 10ms/step - loss: 1.6022 - accuracy: 0.2090 - val_loss: 1.6036 - val_accuracy: 0.1976\n",
      "Epoch 5/64\n",
      "1170/1170 [==============================] - 12s 11ms/step - loss: 1.6073 - accuracy: 0.2046 - val_loss: 1.5976 - val_accuracy: 0.2150\n",
      "Epoch 6/64\n",
      "1170/1170 [==============================] - 12s 11ms/step - loss: 1.5784 - accuracy: 0.2217 - val_loss: 1.5323 - val_accuracy: 0.2308\n",
      "Epoch 7/64\n",
      "1170/1170 [==============================] - 12s 10ms/step - loss: 1.5365 - accuracy: 0.2362 - val_loss: 1.5270 - val_accuracy: 0.2286\n",
      "Epoch 8/64\n",
      "1170/1170 [==============================] - 12s 11ms/step - loss: 1.5224 - accuracy: 0.2431 - val_loss: 1.5087 - val_accuracy: 0.2437\n",
      "Epoch 9/64\n",
      "1170/1170 [==============================] - 12s 11ms/step - loss: 1.5160 - accuracy: 0.2464 - val_loss: 1.5067 - val_accuracy: 0.2454\n",
      "Epoch 10/64\n",
      "1170/1170 [==============================] - 12s 10ms/step - loss: 1.5075 - accuracy: 0.2528 - val_loss: 1.5097 - val_accuracy: 0.2417\n",
      "Epoch 11/64\n",
      "1170/1170 [==============================] - 12s 10ms/step - loss: 1.5022 - accuracy: 0.2565 - val_loss: 1.4928 - val_accuracy: 0.2549\n",
      "Epoch 12/64\n",
      "1170/1170 [==============================] - 12s 10ms/step - loss: 1.4947 - accuracy: 0.2594 - val_loss: 1.4744 - val_accuracy: 0.2619\n",
      "Epoch 13/64\n",
      "1170/1170 [==============================] - 12s 10ms/step - loss: 1.4861 - accuracy: 0.2651 - val_loss: 1.4676 - val_accuracy: 0.2712\n",
      "Epoch 14/64\n",
      "1170/1170 [==============================] - 12s 11ms/step - loss: 1.4763 - accuracy: 0.2691 - val_loss: 1.4581 - val_accuracy: 0.2747\n",
      "Epoch 15/64\n",
      "1170/1170 [==============================] - 12s 10ms/step - loss: 1.4710 - accuracy: 0.2742 - val_loss: 1.4505 - val_accuracy: 0.2815\n",
      "Epoch 16/64\n",
      "1168/1170 [============================>.] - ETA: 0s - loss: 1.4648 - accuracy: 0.2779\n",
      "Epoch 16: saving model to models/model33\\checkpoint-epoch16-loss1.4442.h5\n",
      "1170/1170 [==============================] - 12s 11ms/step - loss: 1.4649 - accuracy: 0.2780 - val_loss: 1.4442 - val_accuracy: 0.2829\n",
      "Epoch 17/64\n",
      "1170/1170 [==============================] - 12s 11ms/step - loss: 1.4597 - accuracy: 0.2813 - val_loss: 1.4430 - val_accuracy: 0.2811\n",
      "Epoch 18/64\n",
      "1170/1170 [==============================] - 12s 10ms/step - loss: 1.4565 - accuracy: 0.2849 - val_loss: 1.4377 - val_accuracy: 0.2877\n",
      "Epoch 19/64\n",
      "1170/1170 [==============================] - 12s 10ms/step - loss: 1.4541 - accuracy: 0.2853 - val_loss: 1.4326 - val_accuracy: 0.2927\n",
      "Epoch 20/64\n",
      "1170/1170 [==============================] - 12s 10ms/step - loss: 1.4492 - accuracy: 0.2904 - val_loss: 1.4354 - val_accuracy: 0.2900\n",
      "Epoch 21/64\n",
      "1170/1170 [==============================] - 12s 10ms/step - loss: 1.4474 - accuracy: 0.2931 - val_loss: 1.4255 - val_accuracy: 0.3054\n",
      "Epoch 22/64\n",
      "1170/1170 [==============================] - 12s 10ms/step - loss: 1.4453 - accuracy: 0.2920 - val_loss: 1.4332 - val_accuracy: 0.2953\n",
      "Epoch 23/64\n",
      "1170/1170 [==============================] - 12s 10ms/step - loss: 1.4488 - accuracy: 0.2918 - val_loss: 1.4399 - val_accuracy: 0.2831\n",
      "Epoch 24/64\n",
      "1170/1170 [==============================] - 13s 11ms/step - loss: 1.4427 - accuracy: 0.2930 - val_loss: 1.4253 - val_accuracy: 0.2977\n",
      "Epoch 25/64\n",
      "1170/1170 [==============================] - 13s 11ms/step - loss: 1.4380 - accuracy: 0.2984 - val_loss: 1.4157 - val_accuracy: 0.3053\n",
      "Epoch 26/64\n",
      "1170/1170 [==============================] - 13s 11ms/step - loss: 1.4360 - accuracy: 0.2983 - val_loss: 1.4310 - val_accuracy: 0.2989\n",
      "Epoch 27/64\n",
      "1170/1170 [==============================] - 12s 11ms/step - loss: 1.4334 - accuracy: 0.3008 - val_loss: 1.4124 - val_accuracy: 0.3112\n",
      "Epoch 28/64\n",
      "1170/1170 [==============================] - 12s 11ms/step - loss: 1.4335 - accuracy: 0.3036 - val_loss: 1.4209 - val_accuracy: 0.3054\n",
      "Epoch 29/64\n",
      "1170/1170 [==============================] - 12s 11ms/step - loss: 1.4350 - accuracy: 0.3044 - val_loss: 1.4424 - val_accuracy: 0.2991\n",
      "Epoch 30/64\n",
      "1170/1170 [==============================] - 12s 11ms/step - loss: 1.4384 - accuracy: 0.3023 - val_loss: 1.4122 - val_accuracy: 0.3136\n",
      "Epoch 31/64\n",
      "1170/1170 [==============================] - 12s 10ms/step - loss: 1.4226 - accuracy: 0.3086 - val_loss: 1.4551 - val_accuracy: 0.2881\n",
      "Epoch 32/64\n",
      "1169/1170 [============================>.] - ETA: 0s - loss: 1.4248 - accuracy: 0.3078\n",
      "Epoch 32: saving model to models/model33\\checkpoint-epoch32-loss1.4157.h5\n",
      "1170/1170 [==============================] - 12s 11ms/step - loss: 1.4248 - accuracy: 0.3078 - val_loss: 1.4157 - val_accuracy: 0.3072\n",
      "Epoch 33/64\n",
      "1170/1170 [==============================] - 12s 11ms/step - loss: 1.4301 - accuracy: 0.3061 - val_loss: 1.4497 - val_accuracy: 0.2938\n",
      "Epoch 34/64\n",
      "1170/1170 [==============================] - 12s 11ms/step - loss: 1.4269 - accuracy: 0.3076 - val_loss: 1.4020 - val_accuracy: 0.3151\n",
      "Epoch 35/64\n",
      "1170/1170 [==============================] - 12s 11ms/step - loss: 1.4175 - accuracy: 0.3121 - val_loss: 1.3979 - val_accuracy: 0.3165\n",
      "Epoch 36/64\n",
      "1170/1170 [==============================] - 12s 11ms/step - loss: 1.4246 - accuracy: 0.3117 - val_loss: 1.4083 - val_accuracy: 0.3151\n",
      "Epoch 37/64\n",
      "1170/1170 [==============================] - 13s 11ms/step - loss: 1.4155 - accuracy: 0.3113 - val_loss: 1.4032 - val_accuracy: 0.3126\n",
      "Epoch 38/64\n",
      "1170/1170 [==============================] - 12s 11ms/step - loss: 1.4135 - accuracy: 0.3156 - val_loss: 1.4115 - val_accuracy: 0.3116\n",
      "Epoch 39/64\n",
      "1170/1170 [==============================] - 12s 11ms/step - loss: 1.4130 - accuracy: 0.3158 - val_loss: 1.3948 - val_accuracy: 0.3169\n",
      "Epoch 40/64\n",
      "1170/1170 [==============================] - 13s 11ms/step - loss: 1.4178 - accuracy: 0.3140 - val_loss: 1.3961 - val_accuracy: 0.3179\n",
      "Epoch 41/64\n",
      "1170/1170 [==============================] - 13s 11ms/step - loss: 1.4149 - accuracy: 0.3134 - val_loss: 1.3985 - val_accuracy: 0.3209\n",
      "Epoch 42/64\n",
      "1170/1170 [==============================] - 12s 11ms/step - loss: 1.4059 - accuracy: 0.3192 - val_loss: 1.3890 - val_accuracy: 0.3263\n",
      "Epoch 43/64\n",
      "1170/1170 [==============================] - 12s 11ms/step - loss: 1.4218 - accuracy: 0.3108 - val_loss: 1.3910 - val_accuracy: 0.3317\n",
      "Epoch 44/64\n",
      "1170/1170 [==============================] - 12s 10ms/step - loss: 1.4061 - accuracy: 0.3157 - val_loss: 1.3925 - val_accuracy: 0.3256\n",
      "Epoch 45/64\n",
      "1170/1170 [==============================] - 12s 11ms/step - loss: 1.4065 - accuracy: 0.3180 - val_loss: 1.3913 - val_accuracy: 0.3156\n",
      "Epoch 46/64\n",
      "1170/1170 [==============================] - 12s 11ms/step - loss: 1.3981 - accuracy: 0.3229 - val_loss: 1.3841 - val_accuracy: 0.3241\n",
      "Epoch 47/64\n",
      "1170/1170 [==============================] - 12s 10ms/step - loss: 1.4063 - accuracy: 0.3195 - val_loss: 1.4315 - val_accuracy: 0.2999\n",
      "Epoch 48/64\n",
      "1169/1170 [============================>.] - ETA: 0s - loss: 1.4012 - accuracy: 0.3200\n",
      "Epoch 48: saving model to models/model33\\checkpoint-epoch48-loss1.3897.h5\n",
      "1170/1170 [==============================] - 12s 11ms/step - loss: 1.4012 - accuracy: 0.3200 - val_loss: 1.3897 - val_accuracy: 0.3198\n",
      "Epoch 49/64\n",
      "1170/1170 [==============================] - 12s 10ms/step - loss: 1.3984 - accuracy: 0.3202 - val_loss: 1.3946 - val_accuracy: 0.3171\n",
      "Epoch 50/64\n",
      "1170/1170 [==============================] - 12s 11ms/step - loss: 1.3983 - accuracy: 0.3218 - val_loss: 1.3848 - val_accuracy: 0.3196\n",
      "Epoch 51/64\n",
      "1170/1170 [==============================] - 13s 11ms/step - loss: 1.4042 - accuracy: 0.3202 - val_loss: 1.3788 - val_accuracy: 0.3289\n",
      "Epoch 52/64\n",
      "1170/1170 [==============================] - 12s 10ms/step - loss: 1.4046 - accuracy: 0.3194 - val_loss: 1.3924 - val_accuracy: 0.3250\n",
      "Epoch 53/64\n",
      "1170/1170 [==============================] - 12s 11ms/step - loss: 1.3943 - accuracy: 0.3241 - val_loss: 1.3812 - val_accuracy: 0.3226\n",
      "Epoch 54/64\n",
      "1170/1170 [==============================] - 12s 11ms/step - loss: 1.3954 - accuracy: 0.3229 - val_loss: 1.3743 - val_accuracy: 0.3339\n",
      "Epoch 55/64\n",
      "1170/1170 [==============================] - 12s 11ms/step - loss: 1.3915 - accuracy: 0.3228 - val_loss: 1.3759 - val_accuracy: 0.3291\n",
      "Epoch 56/64\n",
      "1170/1170 [==============================] - 12s 11ms/step - loss: 1.3950 - accuracy: 0.3233 - val_loss: 1.3820 - val_accuracy: 0.3229\n",
      "Epoch 57/64\n",
      "1170/1170 [==============================] - 12s 11ms/step - loss: 1.3994 - accuracy: 0.3210 - val_loss: 1.3803 - val_accuracy: 0.3228\n",
      "Epoch 58/64\n",
      "1170/1170 [==============================] - 12s 10ms/step - loss: 1.3885 - accuracy: 0.3231 - val_loss: 1.3760 - val_accuracy: 0.3240\n",
      "Epoch 59/64\n",
      "1170/1170 [==============================] - 12s 11ms/step - loss: 1.3934 - accuracy: 0.3236 - val_loss: 1.3775 - val_accuracy: 0.3247\n",
      "Epoch 60/64\n",
      "1170/1170 [==============================] - 12s 11ms/step - loss: 1.3866 - accuracy: 0.3267 - val_loss: 1.3754 - val_accuracy: 0.3316\n",
      "Epoch 61/64\n",
      "1170/1170 [==============================] - 12s 11ms/step - loss: 1.3871 - accuracy: 0.3234 - val_loss: 1.3888 - val_accuracy: 0.3264\n",
      "Epoch 62/64\n",
      "1170/1170 [==============================] - 13s 11ms/step - loss: 1.3917 - accuracy: 0.3225 - val_loss: 1.3761 - val_accuracy: 0.3259\n",
      "Epoch 63/64\n",
      "1170/1170 [==============================] - 12s 11ms/step - loss: 1.3880 - accuracy: 0.3249 - val_loss: 1.3701 - val_accuracy: 0.3326\n",
      "Epoch 64/64\n",
      "1166/1170 [============================>.] - ETA: 0s - loss: 1.3896 - accuracy: 0.3273\n",
      "Epoch 64: saving model to models/model33\\checkpoint-epoch64-loss1.3792.h5\n",
      "1170/1170 [==============================] - 12s 11ms/step - loss: 1.3897 - accuracy: 0.3271 - val_loss: 1.3792 - val_accuracy: 0.3239\n"
     ]
    },
    {
     "data": {
      "text/plain": [
       "<keras.callbacks.History at 0x1d914903d00>"
      ]
     },
     "execution_count": 1772,
     "metadata": {},
     "output_type": "execute_result"
    }
   ],
   "source": [
    "# Train Model ###################################################\n",
    "model.fit(X_random,y_random, epochs=epochs, batch_size=batch_size, validation_split=test_size, callbacks=[checkpoint, csv_logger])    "
   ]
  },
  {
   "cell_type": "code",
   "execution_count": 1788,
   "metadata": {},
   "outputs": [],
   "source": [
    "model.save('models/'+name+'/'+name+'2.h5')"
   ]
  },
  {
   "cell_type": "code",
   "execution_count": 1789,
   "metadata": {},
   "outputs": [
    {
     "name": "stdout",
     "output_type": "stream",
     "text": [
      "1462/1462 [==============================] - 4s 3ms/step\n"
     ]
    }
   ],
   "source": [
    "y_test = y_encoded[input_size-1:] \n",
    "indices = np.arange(input_size) + np.arange(len(X)-input_size+1)[:,np.newaxis] \n",
    "X_test = tf.gather(X,indices) \n",
    "\n",
    "prediction = model.predict(X_test, batch_size=batch_size)"
   ]
  },
  {
   "cell_type": "code",
   "execution_count": 1804,
   "metadata": {},
   "outputs": [
    {
     "data": {
      "text/plain": [
       "array([[0.00410058, 0.00346727, 0.9815045 , 0.00136603, 0.00956156],\n",
       "       [0.00400195, 0.0036158 , 0.9814928 , 0.00160999, 0.00927942],\n",
       "       [0.00392469, 0.00378664, 0.98062193, 0.00193733, 0.00972944],\n",
       "       ...,\n",
       "       [0.64487505, 0.06771522, 0.05301425, 0.06279085, 0.17160465],\n",
       "       [0.56876004, 0.06857967, 0.03505389, 0.07175186, 0.2558544 ],\n",
       "       [0.39263722, 0.09432232, 0.07417941, 0.10544227, 0.3334187 ]],\n",
       "      dtype=float32)"
      ]
     },
     "execution_count": 1804,
     "metadata": {},
     "output_type": "execute_result"
    }
   ],
   "source": [
    "prediction"
   ]
  },
  {
   "cell_type": "code",
   "execution_count": 1805,
   "metadata": {},
   "outputs": [
    {
     "name": "stdout",
     "output_type": "stream",
     "text": [
      "[[0. 0. 1. 0. 0.]\n",
      " [0. 0. 1. 0. 0.]\n",
      " [0. 0. 1. 0. 0.]\n",
      " ...\n",
      " [1. 0. 0. 0. 0.]\n",
      " [1. 0. 0. 0. 0.]\n",
      " [1. 0. 0. 0. 0.]]\n"
     ]
    }
   ],
   "source": [
    "one_hot_output = np.zeros_like(prediction)\n",
    "one_hot_output[np.arange(len(prediction)), prediction.argmax(1)] = 1\n",
    "\n",
    "print(one_hot_output)"
   ]
  },
  {
   "cell_type": "code",
   "execution_count": 1806,
   "metadata": {},
   "outputs": [
    {
     "data": {
      "text/plain": [
       "array(['Idle', 'backward'], dtype=object)"
      ]
     },
     "execution_count": 1806,
     "metadata": {},
     "output_type": "execute_result"
    }
   ],
   "source": [
    "label_encoder.inverse_transform([0,1])"
   ]
  },
  {
   "cell_type": "code",
   "execution_count": 1807,
   "metadata": {},
   "outputs": [],
   "source": [
    "reversed_array = np.argmax(one_hot_output, axis=1)"
   ]
  },
  {
   "cell_type": "code",
   "execution_count": 1808,
   "metadata": {},
   "outputs": [
    {
     "data": {
      "text/plain": [
       "3678"
      ]
     },
     "execution_count": 1808,
     "metadata": {},
     "output_type": "execute_result"
    }
   ],
   "source": [
    "sum(reversed_array == 1)"
   ]
  },
  {
   "cell_type": "code",
   "execution_count": 1809,
   "metadata": {},
   "outputs": [],
   "source": [
    "y_pred = label_encoder.inverse_transform(reversed_array)"
   ]
  },
  {
   "cell_type": "code",
   "execution_count": 1810,
   "metadata": {},
   "outputs": [
    {
     "name": "stdout",
     "output_type": "stream",
     "text": [
      "Accuracy: 0.3303359493616748\n",
      "Precision: 0.5693653380120968\n",
      "Recall: 0.32985955832722497\n",
      "F1-score: 0.31251293025602894\n",
      "Confusion Matrix:\n",
      "[[14637    80    69  2009  1960]\n",
      " [11543  3326    43  1917  1926]\n",
      " [11565    75  2793  1976  2097]\n",
      " [11599   121    57  5027  1951]\n",
      " [11512    76    71  1984  5112]]\n"
     ]
    }
   ],
   "source": [
    "from sklearn.metrics import accuracy_score, precision_score, recall_score, f1_score, confusion_matrix\n",
    "\n",
    "# Assuming you have your actual labels and predicted labels\n",
    "actual_labels = y[len(y) - len(y_pred):]\n",
    "predicted_labels = label_encoder.inverse_transform(reversed_array)\n",
    "\n",
    "# Calculate accuracy\n",
    "accuracy = accuracy_score(actual_labels, predicted_labels)\n",
    "\n",
    "# Calculate precision\n",
    "precision = precision_score(actual_labels, predicted_labels, average='macro')\n",
    "\n",
    "# Calculate recall\n",
    "recall = recall_score(actual_labels, predicted_labels, average='macro')\n",
    "\n",
    "# Calculate F1-score\n",
    "f1 = f1_score(actual_labels, predicted_labels, average='macro')\n",
    "\n",
    "# Generate confusion matrix\n",
    "conf_matrix = confusion_matrix(actual_labels, predicted_labels)\n",
    "\n",
    "print(\"Accuracy:\", accuracy)\n",
    "print(\"Precision:\", precision)\n",
    "print(\"Recall:\", recall)\n",
    "print(\"F1-score:\", f1)\n",
    "print(\"Confusion Matrix:\")\n",
    "print(conf_matrix)\n"
   ]
  },
  {
   "cell_type": "code",
   "execution_count": 1811,
   "metadata": {},
   "outputs": [
    {
     "data": {
      "text/plain": [
       "array([[14637,    80,    69,  2009,  1960],\n",
       "       [11543,  3326,    43,  1917,  1926],\n",
       "       [11565,    75,  2793,  1976,  2097],\n",
       "       [11599,   121,    57,  5027,  1951],\n",
       "       [11512,    76,    71,  1984,  5112]], dtype=int64)"
      ]
     },
     "execution_count": 1811,
     "metadata": {},
     "output_type": "execute_result"
    }
   ],
   "source": [
    "conf_matrix"
   ]
  },
  {
   "cell_type": "code",
   "execution_count": 1812,
   "metadata": {},
   "outputs": [
    {
     "data": {
      "image/png": "[encoded data removed]",
      "text/plain": [
       "<Figure size 800x600 with 1 Axes>"
      ]
     },
     "metadata": {},
     "output_type": "display_data"
    }
   ],
   "source": [
    "import numpy as np\n",
    "import matplotlib.pyplot as plt\n",
    "import seaborn as sns\n",
    "from sklearn.metrics import confusion_matrix\n",
    "\n",
    "# Generate confusion matrix\n",
    "conf_matrix = confusion_matrix(actual_labels, predicted_labels)\n",
    "\n",
    "# Plot confusion matrix\n",
    "plt.figure(figsize=(8, 6))\n",
    "sns.heatmap(conf_matrix, annot=True, fmt='d', cmap='Blues', cbar=False,\n",
    "            xticklabels=np.unique(actual_labels), yticklabels=np.unique(actual_labels))\n",
    "plt.xlabel('Predicted')\n",
    "plt.ylabel('Actual')\n",
    "plt.title('Confusion Matrix')\n",
    "plt.show()\n"
   ]
  },
  {
   "cell_type": "code",
   "execution_count": 1813,
   "metadata": {},
   "outputs": [
    {
     "data": {
      "image/png": "[encoded data removed]",
      "text/plain": [
       "<Figure size 2000x500 with 1 Axes>"
      ]
     },
     "metadata": {},
     "output_type": "display_data"
    }
   ],
   "source": [
    "import matplotlib.pyplot as plt\n",
    "plt.figure(figsize=(20, 5))\n",
    "plt.plot(reversed_array[:20000])\n",
    "plt.plot(y_encoded[len(y) - len(y_pred):20000 + len(y) - len(y_pred)])\n",
    "plt.show()"
   ]
  },
  {
   "cell_type": "code",
   "execution_count": 1814,
   "metadata": {},
   "outputs": [
    {
     "data": {
      "text/plain": [
       "array(['forward', 'forward', 'forward', ..., 'Idle', 'Idle', 'Idle'],\n",
       "      dtype=object)"
      ]
     },
     "execution_count": 1814,
     "metadata": {},
     "output_type": "execute_result"
    }
   ],
   "source": [
    "predicted_labels"
   ]
  },
  {
   "cell_type": "code",
   "execution_count": 1815,
   "metadata": {},
   "outputs": [
    {
     "name": "stdout",
     "output_type": "stream",
     "text": [
      "{0: 18755, 1: 18755, 2: 18755, 3: 18755, 4: 18755}\n"
     ]
    }
   ],
   "source": [
    "unique, counts = np.unique(y_encoded, return_counts=True)\n",
    "print(dict(zip(unique, counts)))\n"
   ]
  }
 ],
 "metadata": {
  "kernelspec": {
   "display_name": "base",
   "language": "python",
   "name": "python3"
  },
  "language_info": {
   "codemirror_mode": {
    "name": "ipython",
    "version": 3
   },
   "file_extension": ".py",
   "mimetype": "text/x-python",
   "name": "python",
   "nbconvert_exporter": "python",
   "pygments_lexer": "ipython3",
   "version": "3.10.11"
  }
 },
 "nbformat": 4,
 "nbformat_minor": 2
}
